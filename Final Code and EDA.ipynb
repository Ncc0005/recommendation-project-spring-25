{
 "cells": [
  {
   "cell_type": "markdown",
   "metadata": {},
   "source": [
    "# Imports"
   ]
  },
  {
   "cell_type": "code",
   "execution_count": null,
   "metadata": {},
   "outputs": [],
   "source": [
    "import pandas as pd\n",
    "import matplotlib.pyplot as plt\n",
    "from sklearn.cluster import KMeans\n",
    "from sklearn.neighbors import NearestNeighbors\n",
    "from sklearn.decomposition import PCA\n",
    "import matplotlib.pyplot as plt\n",
    "import seaborn as sns\n",
    "import matplotlib.pyplot as plt"
   ]
  },
  {
   "cell_type": "markdown",
   "metadata": {},
   "source": [
    "# Data Ingestion/ Description"
   ]
  },
  {
   "cell_type": "code",
   "execution_count": 2,
   "metadata": {},
   "outputs": [],
   "source": [
    "df = pd.read_csv(r\"C:\\Users\\c45526\\OneDrive - Textron\\College\\Grad School\\Spring 2025\\INFO-513\\Homework\\Mid_Project\\encoded_data.csv\")"
   ]
  },
  {
   "cell_type": "code",
   "execution_count": 3,
   "metadata": {},
   "outputs": [
    {
     "data": {
      "application/vnd.microsoft.datawrangler.viewer.v0+json": {
       "columns": [
        {
         "name": "index",
         "rawType": "int64",
         "type": "integer"
        },
        {
         "name": "Unnamed: 0",
         "rawType": "int64",
         "type": "integer"
        },
        {
         "name": "Customer Type",
         "rawType": "object",
         "type": "string"
        },
        {
         "name": "Customer",
         "rawType": "int64",
         "type": "integer"
        },
        {
         "name": "Date Invoiced",
         "rawType": "object",
         "type": "string"
        },
        {
         "name": "Order #",
         "rawType": "int64",
         "type": "integer"
        },
        {
         "name": "item",
         "rawType": "int64",
         "type": "integer"
        },
        {
         "name": "item_encoded",
         "rawType": "int64",
         "type": "integer"
        }
       ],
       "conversionMethod": "pd.DataFrame",
       "ref": "e13d441b-22d5-4a1e-bea3-9806fe38878c",
       "rows": [
        [
         "0",
         "0",
         "Regular",
         "25504",
         "2022-01-12 00:00:00",
         "1304",
         "0",
         "0"
        ],
        [
         "1",
         "1",
         "Regular",
         "25504",
         "2022-01-12 00:00:00",
         "1305",
         "1",
         "1"
        ],
        [
         "2",
         "2",
         "Regular",
         "25504",
         "2022-01-12 00:00:00",
         "1305",
         "2",
         "2"
        ],
        [
         "3",
         "3",
         "Regular",
         "25504",
         "2022-01-12 00:00:00",
         "1305",
         "3",
         "3"
        ],
        [
         "4",
         "4",
         "Regular",
         "25504",
         "2022-01-13 00:00:00",
         "1304",
         "4",
         "4"
        ],
        [
         "5",
         "5",
         "Regular",
         "25504",
         "2022-01-13 00:00:00",
         "1304",
         "5",
         "5"
        ]
       ],
       "shape": {
        "columns": 7,
        "rows": 6
       }
      },
      "text/html": [
       "<div>\n",
       "<style scoped>\n",
       "    .dataframe tbody tr th:only-of-type {\n",
       "        vertical-align: middle;\n",
       "    }\n",
       "\n",
       "    .dataframe tbody tr th {\n",
       "        vertical-align: top;\n",
       "    }\n",
       "\n",
       "    .dataframe thead th {\n",
       "        text-align: right;\n",
       "    }\n",
       "</style>\n",
       "<table border=\"1\" class=\"dataframe\">\n",
       "  <thead>\n",
       "    <tr style=\"text-align: right;\">\n",
       "      <th></th>\n",
       "      <th>Unnamed: 0</th>\n",
       "      <th>Customer Type</th>\n",
       "      <th>Customer</th>\n",
       "      <th>Date Invoiced</th>\n",
       "      <th>Order #</th>\n",
       "      <th>item</th>\n",
       "      <th>item_encoded</th>\n",
       "    </tr>\n",
       "  </thead>\n",
       "  <tbody>\n",
       "    <tr>\n",
       "      <th>0</th>\n",
       "      <td>0</td>\n",
       "      <td>Regular</td>\n",
       "      <td>25504</td>\n",
       "      <td>2022-01-12 00:00:00</td>\n",
       "      <td>1304</td>\n",
       "      <td>0</td>\n",
       "      <td>0</td>\n",
       "    </tr>\n",
       "    <tr>\n",
       "      <th>1</th>\n",
       "      <td>1</td>\n",
       "      <td>Regular</td>\n",
       "      <td>25504</td>\n",
       "      <td>2022-01-12 00:00:00</td>\n",
       "      <td>1305</td>\n",
       "      <td>1</td>\n",
       "      <td>1</td>\n",
       "    </tr>\n",
       "    <tr>\n",
       "      <th>2</th>\n",
       "      <td>2</td>\n",
       "      <td>Regular</td>\n",
       "      <td>25504</td>\n",
       "      <td>2022-01-12 00:00:00</td>\n",
       "      <td>1305</td>\n",
       "      <td>2</td>\n",
       "      <td>2</td>\n",
       "    </tr>\n",
       "    <tr>\n",
       "      <th>3</th>\n",
       "      <td>3</td>\n",
       "      <td>Regular</td>\n",
       "      <td>25504</td>\n",
       "      <td>2022-01-12 00:00:00</td>\n",
       "      <td>1305</td>\n",
       "      <td>3</td>\n",
       "      <td>3</td>\n",
       "    </tr>\n",
       "    <tr>\n",
       "      <th>4</th>\n",
       "      <td>4</td>\n",
       "      <td>Regular</td>\n",
       "      <td>25504</td>\n",
       "      <td>2022-01-13 00:00:00</td>\n",
       "      <td>1304</td>\n",
       "      <td>4</td>\n",
       "      <td>4</td>\n",
       "    </tr>\n",
       "    <tr>\n",
       "      <th>5</th>\n",
       "      <td>5</td>\n",
       "      <td>Regular</td>\n",
       "      <td>25504</td>\n",
       "      <td>2022-01-13 00:00:00</td>\n",
       "      <td>1304</td>\n",
       "      <td>5</td>\n",
       "      <td>5</td>\n",
       "    </tr>\n",
       "  </tbody>\n",
       "</table>\n",
       "</div>"
      ],
      "text/plain": [
       "   Unnamed: 0 Customer Type  Customer        Date Invoiced  Order #  item  \\\n",
       "0           0       Regular     25504  2022-01-12 00:00:00     1304     0   \n",
       "1           1       Regular     25504  2022-01-12 00:00:00     1305     1   \n",
       "2           2       Regular     25504  2022-01-12 00:00:00     1305     2   \n",
       "3           3       Regular     25504  2022-01-12 00:00:00     1305     3   \n",
       "4           4       Regular     25504  2022-01-13 00:00:00     1304     4   \n",
       "5           5       Regular     25504  2022-01-13 00:00:00     1304     5   \n",
       "\n",
       "   item_encoded  \n",
       "0             0  \n",
       "1             1  \n",
       "2             2  \n",
       "3             3  \n",
       "4             4  \n",
       "5             5  "
      ]
     },
     "metadata": {},
     "output_type": "display_data"
    }
   ],
   "source": [
    "sample_data = df.head(6)\n",
    "display(sample_data)"
   ]
  },
  {
   "cell_type": "code",
   "execution_count": 4,
   "metadata": {},
   "outputs": [
    {
     "data": {
      "application/vnd.microsoft.datawrangler.viewer.v0+json": {
       "columns": [
        {
         "name": "index",
         "rawType": "object",
         "type": "string"
        },
        {
         "name": "Unnamed: 0",
         "rawType": "float64",
         "type": "float"
        },
        {
         "name": "Customer",
         "rawType": "float64",
         "type": "float"
        },
        {
         "name": "Order #",
         "rawType": "float64",
         "type": "float"
        },
        {
         "name": "item",
         "rawType": "float64",
         "type": "float"
        },
        {
         "name": "item_encoded",
         "rawType": "float64",
         "type": "float"
        }
       ],
       "conversionMethod": "pd.DataFrame",
       "ref": "b53d721a-eab4-482c-b31c-bc6d5a4af17c",
       "rows": [
        [
         "count",
         "1571286.0",
         "1571286.0",
         "1571286.0",
         "1571286.0",
         "1571286.0"
        ],
        [
         "mean",
         "785642.5",
         "25508.551072179092",
         "1313.489792437532",
         "16091.997061642502",
         "16091.997061642502"
        ],
        [
         "std",
         "453591.3418744895",
         "1.8963263311111687",
         "13.458927219513749",
         "17605.032853513098",
         "17605.032853513098"
        ],
        [
         "min",
         "0.0",
         "25504.0",
         "1232.0",
         "0.0",
         "0.0"
        ],
        [
         "25%",
         "392821.25",
         "25507.0",
         "1308.0",
         "3286.0",
         "3286.0"
        ],
        [
         "50%",
         "785642.5",
         "25510.0",
         "1312.0",
         "9572.0",
         "9572.0"
        ],
        [
         "75%",
         "1178463.75",
         "25510.0",
         "1315.0",
         "22719.0",
         "22719.0"
        ],
        [
         "max",
         "1571285.0",
         "25511.0",
         "1381.0",
         "86330.0",
         "86330.0"
        ]
       ],
       "shape": {
        "columns": 5,
        "rows": 8
       }
      },
      "text/html": [
       "<div>\n",
       "<style scoped>\n",
       "    .dataframe tbody tr th:only-of-type {\n",
       "        vertical-align: middle;\n",
       "    }\n",
       "\n",
       "    .dataframe tbody tr th {\n",
       "        vertical-align: top;\n",
       "    }\n",
       "\n",
       "    .dataframe thead th {\n",
       "        text-align: right;\n",
       "    }\n",
       "</style>\n",
       "<table border=\"1\" class=\"dataframe\">\n",
       "  <thead>\n",
       "    <tr style=\"text-align: right;\">\n",
       "      <th></th>\n",
       "      <th>Unnamed: 0</th>\n",
       "      <th>Customer</th>\n",
       "      <th>Order #</th>\n",
       "      <th>item</th>\n",
       "      <th>item_encoded</th>\n",
       "    </tr>\n",
       "  </thead>\n",
       "  <tbody>\n",
       "    <tr>\n",
       "      <th>count</th>\n",
       "      <td>1.571286e+06</td>\n",
       "      <td>1.571286e+06</td>\n",
       "      <td>1.571286e+06</td>\n",
       "      <td>1.571286e+06</td>\n",
       "      <td>1.571286e+06</td>\n",
       "    </tr>\n",
       "    <tr>\n",
       "      <th>mean</th>\n",
       "      <td>7.856425e+05</td>\n",
       "      <td>2.550855e+04</td>\n",
       "      <td>1.313490e+03</td>\n",
       "      <td>1.609200e+04</td>\n",
       "      <td>1.609200e+04</td>\n",
       "    </tr>\n",
       "    <tr>\n",
       "      <th>std</th>\n",
       "      <td>4.535913e+05</td>\n",
       "      <td>1.896326e+00</td>\n",
       "      <td>1.345893e+01</td>\n",
       "      <td>1.760503e+04</td>\n",
       "      <td>1.760503e+04</td>\n",
       "    </tr>\n",
       "    <tr>\n",
       "      <th>min</th>\n",
       "      <td>0.000000e+00</td>\n",
       "      <td>2.550400e+04</td>\n",
       "      <td>1.232000e+03</td>\n",
       "      <td>0.000000e+00</td>\n",
       "      <td>0.000000e+00</td>\n",
       "    </tr>\n",
       "    <tr>\n",
       "      <th>25%</th>\n",
       "      <td>3.928212e+05</td>\n",
       "      <td>2.550700e+04</td>\n",
       "      <td>1.308000e+03</td>\n",
       "      <td>3.286000e+03</td>\n",
       "      <td>3.286000e+03</td>\n",
       "    </tr>\n",
       "    <tr>\n",
       "      <th>50%</th>\n",
       "      <td>7.856425e+05</td>\n",
       "      <td>2.551000e+04</td>\n",
       "      <td>1.312000e+03</td>\n",
       "      <td>9.572000e+03</td>\n",
       "      <td>9.572000e+03</td>\n",
       "    </tr>\n",
       "    <tr>\n",
       "      <th>75%</th>\n",
       "      <td>1.178464e+06</td>\n",
       "      <td>2.551000e+04</td>\n",
       "      <td>1.315000e+03</td>\n",
       "      <td>2.271900e+04</td>\n",
       "      <td>2.271900e+04</td>\n",
       "    </tr>\n",
       "    <tr>\n",
       "      <th>max</th>\n",
       "      <td>1.571285e+06</td>\n",
       "      <td>2.551100e+04</td>\n",
       "      <td>1.381000e+03</td>\n",
       "      <td>8.633000e+04</td>\n",
       "      <td>8.633000e+04</td>\n",
       "    </tr>\n",
       "  </tbody>\n",
       "</table>\n",
       "</div>"
      ],
      "text/plain": [
       "         Unnamed: 0      Customer       Order #          item  item_encoded\n",
       "count  1.571286e+06  1.571286e+06  1.571286e+06  1.571286e+06  1.571286e+06\n",
       "mean   7.856425e+05  2.550855e+04  1.313490e+03  1.609200e+04  1.609200e+04\n",
       "std    4.535913e+05  1.896326e+00  1.345893e+01  1.760503e+04  1.760503e+04\n",
       "min    0.000000e+00  2.550400e+04  1.232000e+03  0.000000e+00  0.000000e+00\n",
       "25%    3.928212e+05  2.550700e+04  1.308000e+03  3.286000e+03  3.286000e+03\n",
       "50%    7.856425e+05  2.551000e+04  1.312000e+03  9.572000e+03  9.572000e+03\n",
       "75%    1.178464e+06  2.551000e+04  1.315000e+03  2.271900e+04  2.271900e+04\n",
       "max    1.571285e+06  2.551100e+04  1.381000e+03  8.633000e+04  8.633000e+04"
      ]
     },
     "execution_count": 4,
     "metadata": {},
     "output_type": "execute_result"
    }
   ],
   "source": [
    "df.describe()"
   ]
  },
  {
   "cell_type": "code",
   "execution_count": 5,
   "metadata": {},
   "outputs": [
    {
     "name": "stdout",
     "output_type": "stream",
     "text": [
      "<class 'pandas.core.frame.DataFrame'>\n",
      "RangeIndex: 1571286 entries, 0 to 1571285\n",
      "Data columns (total 7 columns):\n",
      " #   Column         Non-Null Count    Dtype \n",
      "---  ------         --------------    ----- \n",
      " 0   Unnamed: 0     1571286 non-null  int64 \n",
      " 1   Customer Type  1571286 non-null  object\n",
      " 2   Customer       1571286 non-null  int64 \n",
      " 3   Date Invoiced  1571286 non-null  object\n",
      " 4   Order #        1571286 non-null  int64 \n",
      " 5   item           1571286 non-null  int64 \n",
      " 6   item_encoded   1571286 non-null  int64 \n",
      "dtypes: int64(5), object(2)\n",
      "memory usage: 83.9+ MB\n"
     ]
    }
   ],
   "source": [
    "df.info()"
   ]
  },
  {
   "cell_type": "markdown",
   "metadata": {},
   "source": [
    "# Cleaning/Dropping Data"
   ]
  },
  {
   "cell_type": "code",
   "execution_count": 6,
   "metadata": {},
   "outputs": [],
   "source": [
    "cleandf = df.drop(columns=[\"Unnamed: 0\",\"item_encoded\"]) # dropping the columns I left from my encoding."
   ]
  },
  {
   "cell_type": "code",
   "execution_count": 7,
   "metadata": {},
   "outputs": [],
   "source": [
    "cleandf['Date Invoiced']=pd.to_datetime(cleandf['Date Invoiced']) #Changing the order date to a date time if its not"
   ]
  },
  {
   "cell_type": "markdown",
   "metadata": {},
   "source": [
    "# Summary Stats"
   ]
  },
  {
   "cell_type": "code",
   "execution_count": 8,
   "metadata": {},
   "outputs": [],
   "source": [
    "summary_stats = {\n",
    "    \"unique_customers\": cleandf['Customer'].nunique(),\n",
    "    \"unique_customer_types\": cleandf['Customer Type'].nunique(),\n",
    "    \"unique_items\": cleandf['item'].nunique(),\n",
    "    \"unique_orders\": cleandf['Order #'].nunique(),\n",
    "    \"date_range\": (cleandf['Date Invoiced'].min(), cleandf['Date Invoiced'].max())\n",
    "}"
   ]
  },
  {
   "cell_type": "code",
   "execution_count": 9,
   "metadata": {},
   "outputs": [],
   "source": [
    "top_items = cleandf['item'].value_counts().head(10)\n",
    "top_items_by_type = cleandf.groupby('Customer Type')['item'].value_counts().groupby(level=0).head(5)"
   ]
  },
  {
   "cell_type": "code",
   "execution_count": 10,
   "metadata": {},
   "outputs": [
    {
     "data": {
      "text/plain": [
       "{'unique_customers': 7,\n",
       " 'unique_customer_types': 3,\n",
       " 'unique_items': 86331,\n",
       " 'unique_orders': 90,\n",
       " 'date_range': (Timestamp('2022-01-07 00:00:00'),\n",
       "  Timestamp('2025-01-10 00:00:00'))}"
      ]
     },
     "metadata": {},
     "output_type": "display_data"
    }
   ],
   "source": [
    "display(summary_stats)"
   ]
  },
  {
   "cell_type": "markdown",
   "metadata": {},
   "source": [
    "> Above we can see that we can see that in this dataset, we have 7 unique or different kinds of customers, as well as 3 customer types( Regular, Service Center, and Special Programs), the orders span from January 7th 2022 to Janurary 10th of this year."
   ]
  },
  {
   "cell_type": "code",
   "execution_count": 11,
   "metadata": {},
   "outputs": [
    {
     "data": {
      "text/plain": [
       "item\n",
       "1303    2666\n",
       "1611    1962\n",
       "1009    1860\n",
       "1010    1779\n",
       "1035    1771\n",
       "4385    1744\n",
       "43      1669\n",
       "787     1658\n",
       "1535    1641\n",
       "1141    1516\n",
       "Name: count, dtype: int64"
      ]
     },
     "metadata": {},
     "output_type": "display_data"
    },
    {
     "data": {
      "text/plain": [
       "Customer Type     item\n",
       "Regular           1611     963\n",
       "                  1141     652\n",
       "                  1303     632\n",
       "                  1035     615\n",
       "                  787      595\n",
       "Service Center    1303    1193\n",
       "                  43       856\n",
       "                  1035     794\n",
       "                  770      775\n",
       "                  980      663\n",
       "Special Programs  1611     949\n",
       "                  1009     902\n",
       "                  37       891\n",
       "                  1303     841\n",
       "                  419      837\n",
       "Name: count, dtype: int64"
      ]
     },
     "metadata": {},
     "output_type": "display_data"
    }
   ],
   "source": [
    "display(top_items,top_items_by_type)"
   ]
  },
  {
   "cell_type": "markdown",
   "metadata": {},
   "source": [
    "> We can see the results fo the summary stats above, they tell us the top 10 items order regardless of customer/customer type and we can see that item 1303 has the highest amount of orders at 2666 \n",
    "\n",
    "> Further more when looking at the top 5 items by type we can see the breakout of most items ordered by customer type, If you look at The regular customer type you can see that item 1611 is number one, and we can also seetaht item 1303 had over half of its orders come from the Service Center."
   ]
  },
  {
   "cell_type": "markdown",
   "metadata": {},
   "source": [
    "# Frequencies "
   ]
  },
  {
   "cell_type": "code",
   "execution_count": 12,
   "metadata": {},
   "outputs": [],
   "source": [
    "item_order_counts = cleandf.groupby('Order #')['item'].count() # Number of Items per order \n",
    "\n",
    "cart_distribution = item_order_counts.value_counts().sort_index() # Cart Size distributions"
   ]
  },
  {
   "cell_type": "code",
   "execution_count": 13,
   "metadata": {},
   "outputs": [],
   "source": [
    "order_customer_type = cleandf.groupby('Order #')['Customer Type'].first()\n",
    "basket_by_customer_type = pd.DataFrame({\n",
    "    'order_size':item_order_counts,\n",
    "    'customer_type':order_customer_type\n",
    "})"
   ]
  },
  {
   "cell_type": "code",
   "execution_count": 14,
   "metadata": {},
   "outputs": [],
   "source": [
    "avg_basket_by_customer_type = basket_by_customer_type.groupby('customer_type')['order_size'].agg(['mean','median','count'])"
   ]
  },
  {
   "cell_type": "code",
   "execution_count": 15,
   "metadata": {},
   "outputs": [
    {
     "data": {
      "application/vnd.microsoft.datawrangler.viewer.v0+json": {
       "columns": [
        {
         "name": "Order #",
         "rawType": "int64",
         "type": "integer"
        },
        {
         "name": "order_size",
         "rawType": "int64",
         "type": "integer"
        },
        {
         "name": "customer_type",
         "rawType": "object",
         "type": "string"
        }
       ],
       "conversionMethod": "pd.DataFrame",
       "ref": "547e48ac-7606-4a8e-b732-cadd46fcd9c1",
       "rows": [
        [
         "1232",
         "16",
         "Service Center"
        ],
        [
         "1233",
         "44",
         "Service Center"
        ],
        [
         "1234",
         "26",
         "Service Center"
        ],
        [
         "1235",
         "40",
         "Service Center"
        ],
        [
         "1236",
         "78",
         "Service Center"
        ],
        [
         "1237",
         "32",
         "Service Center"
        ],
        [
         "1238",
         "57",
         "Service Center"
        ],
        [
         "1239",
         "40",
         "Service Center"
        ],
        [
         "1240",
         "68",
         "Service Center"
        ],
        [
         "1241",
         "43",
         "Service Center"
        ],
        [
         "1242",
         "116",
         "Service Center"
        ],
        [
         "1243",
         "80",
         "Service Center"
        ],
        [
         "1244",
         "54",
         "Service Center"
        ],
        [
         "1245",
         "58",
         "Service Center"
        ],
        [
         "1246",
         "46",
         "Service Center"
        ],
        [
         "1247",
         "89",
         "Service Center"
        ],
        [
         "1248",
         "49",
         "Service Center"
        ],
        [
         "1249",
         "62",
         "Service Center"
        ],
        [
         "1250",
         "66",
         "Service Center"
        ],
        [
         "1251",
         "61",
         "Service Center"
        ],
        [
         "1252",
         "103",
         "Service Center"
        ],
        [
         "1253",
         "93",
         "Service Center"
        ],
        [
         "1254",
         "94",
         "Regular"
        ],
        [
         "1255",
         "121",
         "Service Center"
        ],
        [
         "1256",
         "90",
         "Service Center"
        ],
        [
         "1257",
         "93",
         "Service Center"
        ],
        [
         "1258",
         "85",
         "Regular"
        ],
        [
         "1259",
         "104",
         "Service Center"
        ],
        [
         "1260",
         "232",
         "Regular"
        ],
        [
         "1261",
         "179",
         "Regular"
        ],
        [
         "1262",
         "132",
         "Regular"
        ],
        [
         "1263",
         "154",
         "Service Center"
        ],
        [
         "1264",
         "138",
         "Regular"
        ],
        [
         "1265",
         "192",
         "Service Center"
        ],
        [
         "1266",
         "240",
         "Regular"
        ],
        [
         "1267",
         "315",
         "Regular"
        ],
        [
         "1268",
         "190",
         "Regular"
        ],
        [
         "1269",
         "205",
         "Regular"
        ],
        [
         "1270",
         "181",
         "Regular"
        ],
        [
         "1271",
         "250",
         "Regular"
        ],
        [
         "1272",
         "144",
         "Regular"
        ],
        [
         "1273",
         "210",
         "Regular"
        ],
        [
         "1274",
         "237",
         "Regular"
        ],
        [
         "1275",
         "208",
         "Regular"
        ],
        [
         "1276",
         "263",
         "Regular"
        ],
        [
         "1277",
         "258",
         "Regular"
        ],
        [
         "1278",
         "160",
         "Regular"
        ],
        [
         "1279",
         "285",
         "Regular"
        ],
        [
         "1280",
         "321",
         "Regular"
        ],
        [
         "1281",
         "259",
         "Regular"
        ]
       ],
       "shape": {
        "columns": 2,
        "rows": 90
       }
      },
      "text/html": [
       "<div>\n",
       "<style scoped>\n",
       "    .dataframe tbody tr th:only-of-type {\n",
       "        vertical-align: middle;\n",
       "    }\n",
       "\n",
       "    .dataframe tbody tr th {\n",
       "        vertical-align: top;\n",
       "    }\n",
       "\n",
       "    .dataframe thead th {\n",
       "        text-align: right;\n",
       "    }\n",
       "</style>\n",
       "<table border=\"1\" class=\"dataframe\">\n",
       "  <thead>\n",
       "    <tr style=\"text-align: right;\">\n",
       "      <th></th>\n",
       "      <th>order_size</th>\n",
       "      <th>customer_type</th>\n",
       "    </tr>\n",
       "    <tr>\n",
       "      <th>Order #</th>\n",
       "      <th></th>\n",
       "      <th></th>\n",
       "    </tr>\n",
       "  </thead>\n",
       "  <tbody>\n",
       "    <tr>\n",
       "      <th>1232</th>\n",
       "      <td>16</td>\n",
       "      <td>Service Center</td>\n",
       "    </tr>\n",
       "    <tr>\n",
       "      <th>1233</th>\n",
       "      <td>44</td>\n",
       "      <td>Service Center</td>\n",
       "    </tr>\n",
       "    <tr>\n",
       "      <th>1234</th>\n",
       "      <td>26</td>\n",
       "      <td>Service Center</td>\n",
       "    </tr>\n",
       "    <tr>\n",
       "      <th>1235</th>\n",
       "      <td>40</td>\n",
       "      <td>Service Center</td>\n",
       "    </tr>\n",
       "    <tr>\n",
       "      <th>1236</th>\n",
       "      <td>78</td>\n",
       "      <td>Service Center</td>\n",
       "    </tr>\n",
       "    <tr>\n",
       "      <th>...</th>\n",
       "      <td>...</td>\n",
       "      <td>...</td>\n",
       "    </tr>\n",
       "    <tr>\n",
       "      <th>1317</th>\n",
       "      <td>117894</td>\n",
       "      <td>Regular</td>\n",
       "    </tr>\n",
       "    <tr>\n",
       "      <th>1318</th>\n",
       "      <td>89064</td>\n",
       "      <td>Regular</td>\n",
       "    </tr>\n",
       "    <tr>\n",
       "      <th>1379</th>\n",
       "      <td>36</td>\n",
       "      <td>Special Programs</td>\n",
       "    </tr>\n",
       "    <tr>\n",
       "      <th>1380</th>\n",
       "      <td>667</td>\n",
       "      <td>Regular</td>\n",
       "    </tr>\n",
       "    <tr>\n",
       "      <th>1381</th>\n",
       "      <td>50449</td>\n",
       "      <td>Regular</td>\n",
       "    </tr>\n",
       "  </tbody>\n",
       "</table>\n",
       "<p>90 rows × 2 columns</p>\n",
       "</div>"
      ],
      "text/plain": [
       "         order_size     customer_type\n",
       "Order #                              \n",
       "1232             16    Service Center\n",
       "1233             44    Service Center\n",
       "1234             26    Service Center\n",
       "1235             40    Service Center\n",
       "1236             78    Service Center\n",
       "...             ...               ...\n",
       "1317         117894           Regular\n",
       "1318          89064           Regular\n",
       "1379             36  Special Programs\n",
       "1380            667           Regular\n",
       "1381          50449           Regular\n",
       "\n",
       "[90 rows x 2 columns]"
      ]
     },
     "metadata": {},
     "output_type": "display_data"
    },
    {
     "data": {
      "application/vnd.microsoft.datawrangler.viewer.v0+json": {
       "columns": [
        {
         "name": "customer_type",
         "rawType": "object",
         "type": "string"
        },
        {
         "name": "mean",
         "rawType": "float64",
         "type": "float"
        },
        {
         "name": "median",
         "rawType": "float64",
         "type": "float"
        },
        {
         "name": "count",
         "rawType": "int64",
         "type": "integer"
        }
       ],
       "conversionMethod": "pd.DataFrame",
       "ref": "df028832-f692-4510-9022-91170377fdca",
       "rows": [
        [
         "Regular",
         "25724.180327868853",
         "322.0",
         "61"
        ],
        [
         "Service Center",
         "74.10714285714286",
         "64.0",
         "28"
        ],
        [
         "Special Programs",
         "36.0",
         "36.0",
         "1"
        ]
       ],
       "shape": {
        "columns": 3,
        "rows": 3
       }
      },
      "text/html": [
       "<div>\n",
       "<style scoped>\n",
       "    .dataframe tbody tr th:only-of-type {\n",
       "        vertical-align: middle;\n",
       "    }\n",
       "\n",
       "    .dataframe tbody tr th {\n",
       "        vertical-align: top;\n",
       "    }\n",
       "\n",
       "    .dataframe thead th {\n",
       "        text-align: right;\n",
       "    }\n",
       "</style>\n",
       "<table border=\"1\" class=\"dataframe\">\n",
       "  <thead>\n",
       "    <tr style=\"text-align: right;\">\n",
       "      <th></th>\n",
       "      <th>mean</th>\n",
       "      <th>median</th>\n",
       "      <th>count</th>\n",
       "    </tr>\n",
       "    <tr>\n",
       "      <th>customer_type</th>\n",
       "      <th></th>\n",
       "      <th></th>\n",
       "      <th></th>\n",
       "    </tr>\n",
       "  </thead>\n",
       "  <tbody>\n",
       "    <tr>\n",
       "      <th>Regular</th>\n",
       "      <td>25724.180328</td>\n",
       "      <td>322.0</td>\n",
       "      <td>61</td>\n",
       "    </tr>\n",
       "    <tr>\n",
       "      <th>Service Center</th>\n",
       "      <td>74.107143</td>\n",
       "      <td>64.0</td>\n",
       "      <td>28</td>\n",
       "    </tr>\n",
       "    <tr>\n",
       "      <th>Special Programs</th>\n",
       "      <td>36.000000</td>\n",
       "      <td>36.0</td>\n",
       "      <td>1</td>\n",
       "    </tr>\n",
       "  </tbody>\n",
       "</table>\n",
       "</div>"
      ],
      "text/plain": [
       "                          mean  median  count\n",
       "customer_type                                \n",
       "Regular           25724.180328   322.0     61\n",
       "Service Center       74.107143    64.0     28\n",
       "Special Programs     36.000000    36.0      1"
      ]
     },
     "metadata": {},
     "output_type": "display_data"
    }
   ],
   "source": [
    "display(basket_by_customer_type, avg_basket_by_customer_type)"
   ]
  },
  {
   "cell_type": "markdown",
   "metadata": {},
   "source": [
    "> Here we can see that most orders are pretty small, (less than 200 items)\n",
    "\n",
    "> we can also see that the regular customer category has the majority of the bulk orders, while Service center orders seem relatively consistant with their sizing.\n"
   ]
  },
  {
   "cell_type": "code",
   "execution_count": 50,
   "metadata": {},
   "outputs": [
    {
     "data": {
      "image/png": "[encoded data removed]",
      "text/plain": [
       "<Figure size 1000x500 with 1 Axes>"
      ]
     },
     "metadata": {},
     "output_type": "display_data"
    }
   ],
   "source": [
    "plt.figure(figsize=(10, 5))\n",
    "cart_distribution.plot(kind='bar')\n",
    "plt.title(\"Distribution of Basket Sizes (Items per Order)\")\n",
    "plt.xlabel(\"Number of Items in Order\")\n",
    "plt.ylabel(\"Number of Orders\")\n",
    "plt.xticks(rotation=30)\n",
    "plt.tight_layout()\n",
    "plt.show()"
   ]
  },
  {
   "cell_type": "code",
   "execution_count": null,
   "metadata": {},
   "outputs": [],
   "source": []
  },
  {
   "cell_type": "markdown",
   "metadata": {},
   "source": [
    "# New EDA"
   ]
  },
  {
   "cell_type": "code",
   "execution_count": null,
   "metadata": {},
   "outputs": [],
   "source": [
    "# Reload dataset with all identifiers as strings\n",
    "df_str = pd.read_csv(r\"C:\\Users\\c45526\\OneDrive - Textron\\College\\Grad School\\Spring 2025\\INFO-513\\Homework\\Mid_Project\\encoded_data.csv\")"
   ]
  },
  {
   "cell_type": "code",
   "execution_count": null,
   "metadata": {},
   "outputs": [],
   "source": [
    "\n",
    "# Clean and format necessary fields\n",
    "df_str['Date Invoiced'] = pd.to_datetime(df_str['Date Invoiced'])\n",
    "df_str = df_str.rename(columns={\"Order #\": \"Order\", \"Customer Type\": \"Customer_Type\"})"
   ]
  },
  {
   "cell_type": "code",
   "execution_count": 19,
   "metadata": {},
   "outputs": [],
   "source": [
    "\n",
    "# 1. Histogram of number of items per order (log scale), grouped by customer type\n",
    "order_sizes = df_str.groupby(\"Order\")[\"item\"].count().reset_index(name=\"items_per_order\")\n",
    "order_customer_type = df_str.groupby(\"Order\")[\"Customer_Type\"].first().reset_index()\n",
    "order_info = pd.merge(order_sizes, order_customer_type, on=\"Order\")\n"
   ]
  },
  {
   "cell_type": "code",
   "execution_count": null,
   "metadata": {},
   "outputs": [
    {
     "name": "stderr",
     "output_type": "stream",
     "text": [
      "C:\\Users\\c45526\\AppData\\Local\\Packages\\PythonSoftwareFoundation.Python.3.11_qbz5n2kfra8p0\\LocalCache\\local-packages\\Python311\\site-packages\\seaborn\\_oldcore.py:1498: FutureWarning: is_categorical_dtype is deprecated and will be removed in a future version. Use isinstance(dtype, CategoricalDtype) instead\n",
      "  if pd.api.types.is_categorical_dtype(vector):\n",
      "C:\\Users\\c45526\\AppData\\Local\\Packages\\PythonSoftwareFoundation.Python.3.11_qbz5n2kfra8p0\\LocalCache\\local-packages\\Python311\\site-packages\\seaborn\\_oldcore.py:1498: FutureWarning: is_categorical_dtype is deprecated and will be removed in a future version. Use isinstance(dtype, CategoricalDtype) instead\n",
      "  if pd.api.types.is_categorical_dtype(vector):\n",
      "C:\\Users\\c45526\\AppData\\Local\\Packages\\PythonSoftwareFoundation.Python.3.11_qbz5n2kfra8p0\\LocalCache\\local-packages\\Python311\\site-packages\\seaborn\\_oldcore.py:1498: FutureWarning: is_categorical_dtype is deprecated and will be removed in a future version. Use isinstance(dtype, CategoricalDtype) instead\n",
      "  if pd.api.types.is_categorical_dtype(vector):\n",
      "C:\\Users\\c45526\\AppData\\Local\\Packages\\PythonSoftwareFoundation.Python.3.11_qbz5n2kfra8p0\\LocalCache\\local-packages\\Python311\\site-packages\\seaborn\\_oldcore.py:1498: FutureWarning: is_categorical_dtype is deprecated and will be removed in a future version. Use isinstance(dtype, CategoricalDtype) instead\n",
      "  if pd.api.types.is_categorical_dtype(vector):\n",
      "C:\\Users\\c45526\\AppData\\Local\\Packages\\PythonSoftwareFoundation.Python.3.11_qbz5n2kfra8p0\\LocalCache\\local-packages\\Python311\\site-packages\\seaborn\\_oldcore.py:1119: FutureWarning: use_inf_as_na option is deprecated and will be removed in a future version. Convert inf values to NaN before operating instead.\n",
      "  with pd.option_context('mode.use_inf_as_na', True):\n"
     ]
    },
    {
     "data": {
      "image/png": "[encoded data removed]",
      "text/plain": [
       "<Figure size 1000x600 with 1 Axes>"
      ]
     },
     "metadata": {},
     "output_type": "display_data"
    }
   ],
   "source": [
    "# Plot\n",
    "plt.figure(figsize=(10, 6))\n",
    "sns.histplot(data=order_info, x=\"items_per_order\", hue=\"Customer_Type\", bins=50, log_scale=(True, False), element=\"step\", palette=\"tab10\")\n",
    "plt.title(\"Histogram of Items per Order by Customer Type (Log Scale)\")\n",
    "plt.xlabel(\"Items per Order (log-scaled bins)\")\n",
    "plt.ylabel(\"Number of Orders\")\n",
    "plt.tight_layout()\n",
    "plt.show()\n"
   ]
  },
  {
   "cell_type": "code",
   "execution_count": null,
   "metadata": {},
   "outputs": [
    {
     "name": "stderr",
     "output_type": "stream",
     "text": [
      "C:\\Users\\c45526\\AppData\\Local\\Packages\\PythonSoftwareFoundation.Python.3.11_qbz5n2kfra8p0\\LocalCache\\local-packages\\Python311\\site-packages\\seaborn\\_oldcore.py:1498: FutureWarning: is_categorical_dtype is deprecated and will be removed in a future version. Use isinstance(dtype, CategoricalDtype) instead\n",
      "  if pd.api.types.is_categorical_dtype(vector):\n",
      "C:\\Users\\c45526\\AppData\\Local\\Packages\\PythonSoftwareFoundation.Python.3.11_qbz5n2kfra8p0\\LocalCache\\local-packages\\Python311\\site-packages\\seaborn\\_oldcore.py:1119: FutureWarning: use_inf_as_na option is deprecated and will be removed in a future version. Convert inf values to NaN before operating instead.\n",
      "  with pd.option_context('mode.use_inf_as_na', True):\n"
     ]
    },
    {
     "data": {
      "image/png": "[encoded data removed]",
      "text/plain": [
       "<Figure size 1000x600 with 1 Axes>"
      ]
     },
     "metadata": {},
     "output_type": "display_data"
    }
   ],
   "source": [
    "# Histogram of number of orders per customer\n",
    "orders_per_customer = df_str.groupby(\"Customer\")[\"Order\"].nunique().reset_index(name=\"orders_per_customer\")\n",
    "# Plot\n",
    "plt.figure(figsize=(10, 6))\n",
    "sns.histplot(orders_per_customer[\"orders_per_customer\"], bins=30, log_scale=(True, False), color=\"green\", element=\"step\")\n",
    "plt.title(\"Histogram of Orders per Customer\")\n",
    "plt.xlabel(\"Number of Orders per Customer\")\n",
    "plt.ylabel(\"Number of Customers\")\n",
    "plt.tight_layout()\n",
    "plt.show()\n"
   ]
  },
  {
   "cell_type": "code",
   "execution_count": null,
   "metadata": {},
   "outputs": [
    {
     "name": "stderr",
     "output_type": "stream",
     "text": [
      "C:\\Users\\c45526\\AppData\\Local\\Packages\\PythonSoftwareFoundation.Python.3.11_qbz5n2kfra8p0\\LocalCache\\local-packages\\Python311\\site-packages\\seaborn\\_oldcore.py:1498: FutureWarning: is_categorical_dtype is deprecated and will be removed in a future version. Use isinstance(dtype, CategoricalDtype) instead\n",
      "  if pd.api.types.is_categorical_dtype(vector):\n",
      "C:\\Users\\c45526\\AppData\\Local\\Packages\\PythonSoftwareFoundation.Python.3.11_qbz5n2kfra8p0\\LocalCache\\local-packages\\Python311\\site-packages\\seaborn\\_oldcore.py:1119: FutureWarning: use_inf_as_na option is deprecated and will be removed in a future version. Convert inf values to NaN before operating instead.\n",
      "  with pd.option_context('mode.use_inf_as_na', True):\n"
     ]
    },
    {
     "data": {
      "image/png": "[encoded data removed]",
      "text/plain": [
       "<Figure size 1000x600 with 1 Axes>"
      ]
     },
     "metadata": {},
     "output_type": "display_data"
    }
   ],
   "source": [
    "\n",
    "#Histogram of item sale frequency (log scale)\n",
    "item_counts = df_str[\"item\"].value_counts()\n",
    "# Plot\n",
    "plt.figure(figsize=(10, 6))\n",
    "sns.histplot(item_counts, bins=50, log_scale=(True, False), color=\"purple\", element=\"step\")\n",
    "plt.title(\"Histogram of Item Sale Frequencies\")\n",
    "plt.xlabel(\"Item Sale Count\")\n",
    "plt.ylabel(\"Number of Items\")\n",
    "plt.tight_layout()\n",
    "plt.show()\n"
   ]
  },
  {
   "cell_type": "markdown",
   "metadata": {},
   "source": [
    "# Transaction Matrix"
   ]
  },
  {
   "cell_type": "code",
   "execution_count": 24,
   "metadata": {},
   "outputs": [],
   "source": [
    "# Rename columns for consistency\n",
    "df = df.rename(columns={\"Order #\": \"Order\", \"Customer Type\": \"Customer_Type\"})\n",
    "# Limit to orders with manageable basket sizes (2–100 items)\n",
    "order_sizes = df.groupby(\"Order\")[\"item\"].count()\n",
    "reasonable_orders = order_sizes[(order_sizes >= 2) & (order_sizes <= 100)].index\n",
    "filtered_df = df[df[\"Order\"].isin(reasonable_orders)]"
   ]
  },
  {
   "cell_type": "code",
   "execution_count": 25,
   "metadata": {},
   "outputs": [
    {
     "data": {
      "application/vnd.microsoft.datawrangler.viewer.v0+json": {
       "columns": [
        {
         "name": "index",
         "rawType": "int64",
         "type": "integer"
        },
        {
         "name": "Unnamed: 0",
         "rawType": "int64",
         "type": "integer"
        },
        {
         "name": "Customer_Type",
         "rawType": "object",
         "type": "string"
        },
        {
         "name": "Customer",
         "rawType": "int64",
         "type": "integer"
        },
        {
         "name": "Date Invoiced",
         "rawType": "object",
         "type": "string"
        },
        {
         "name": "Order",
         "rawType": "int64",
         "type": "integer"
        },
        {
         "name": "item",
         "rawType": "int64",
         "type": "integer"
        },
        {
         "name": "item_encoded",
         "rawType": "int64",
         "type": "integer"
        }
       ],
       "conversionMethod": "pd.DataFrame",
       "ref": "2d39733b-01f3-4495-b896-081f44bffedb",
       "rows": [
        [
         "73931",
         "73931",
         "Regular",
         "25507",
         "2022-09-05 00:00:00",
         "1258",
         "15586",
         "15586"
        ],
        [
         "78684",
         "78684",
         "Regular",
         "25507",
         "2023-02-21 00:00:00",
         "1258",
         "10631",
         "10631"
        ],
        [
         "351864",
         "351864",
         "Regular",
         "25510",
         "2023-08-22 00:00:00",
         "1254",
         "50190",
         "50190"
        ],
        [
         "599228",
         "599228",
         "Service Center",
         "25507",
         "2022-01-25 00:00:00",
         "1257",
         "10202",
         "10202"
        ],
        [
         "599469",
         "599469",
         "Service Center",
         "25507",
         "2022-02-07 00:00:00",
         "1251",
         "8920",
         "8920"
        ],
        [
         "599628",
         "599628",
         "Service Center",
         "25507",
         "2022-02-10 00:00:00",
         "1238",
         "6655",
         "6655"
        ]
       ],
       "shape": {
        "columns": 7,
        "rows": 6
       }
      },
      "text/html": [
       "<div>\n",
       "<style scoped>\n",
       "    .dataframe tbody tr th:only-of-type {\n",
       "        vertical-align: middle;\n",
       "    }\n",
       "\n",
       "    .dataframe tbody tr th {\n",
       "        vertical-align: top;\n",
       "    }\n",
       "\n",
       "    .dataframe thead th {\n",
       "        text-align: right;\n",
       "    }\n",
       "</style>\n",
       "<table border=\"1\" class=\"dataframe\">\n",
       "  <thead>\n",
       "    <tr style=\"text-align: right;\">\n",
       "      <th></th>\n",
       "      <th>Unnamed: 0</th>\n",
       "      <th>Customer_Type</th>\n",
       "      <th>Customer</th>\n",
       "      <th>Date Invoiced</th>\n",
       "      <th>Order</th>\n",
       "      <th>item</th>\n",
       "      <th>item_encoded</th>\n",
       "    </tr>\n",
       "  </thead>\n",
       "  <tbody>\n",
       "    <tr>\n",
       "      <th>73931</th>\n",
       "      <td>73931</td>\n",
       "      <td>Regular</td>\n",
       "      <td>25507</td>\n",
       "      <td>2022-09-05 00:00:00</td>\n",
       "      <td>1258</td>\n",
       "      <td>15586</td>\n",
       "      <td>15586</td>\n",
       "    </tr>\n",
       "    <tr>\n",
       "      <th>78684</th>\n",
       "      <td>78684</td>\n",
       "      <td>Regular</td>\n",
       "      <td>25507</td>\n",
       "      <td>2023-02-21 00:00:00</td>\n",
       "      <td>1258</td>\n",
       "      <td>10631</td>\n",
       "      <td>10631</td>\n",
       "    </tr>\n",
       "    <tr>\n",
       "      <th>351864</th>\n",
       "      <td>351864</td>\n",
       "      <td>Regular</td>\n",
       "      <td>25510</td>\n",
       "      <td>2023-08-22 00:00:00</td>\n",
       "      <td>1254</td>\n",
       "      <td>50190</td>\n",
       "      <td>50190</td>\n",
       "    </tr>\n",
       "    <tr>\n",
       "      <th>599228</th>\n",
       "      <td>599228</td>\n",
       "      <td>Service Center</td>\n",
       "      <td>25507</td>\n",
       "      <td>2022-01-25 00:00:00</td>\n",
       "      <td>1257</td>\n",
       "      <td>10202</td>\n",
       "      <td>10202</td>\n",
       "    </tr>\n",
       "    <tr>\n",
       "      <th>599469</th>\n",
       "      <td>599469</td>\n",
       "      <td>Service Center</td>\n",
       "      <td>25507</td>\n",
       "      <td>2022-02-07 00:00:00</td>\n",
       "      <td>1251</td>\n",
       "      <td>8920</td>\n",
       "      <td>8920</td>\n",
       "    </tr>\n",
       "    <tr>\n",
       "      <th>599628</th>\n",
       "      <td>599628</td>\n",
       "      <td>Service Center</td>\n",
       "      <td>25507</td>\n",
       "      <td>2022-02-10 00:00:00</td>\n",
       "      <td>1238</td>\n",
       "      <td>6655</td>\n",
       "      <td>6655</td>\n",
       "    </tr>\n",
       "  </tbody>\n",
       "</table>\n",
       "</div>"
      ],
      "text/plain": [
       "        Unnamed: 0   Customer_Type  Customer        Date Invoiced  Order  \\\n",
       "73931        73931         Regular     25507  2022-09-05 00:00:00   1258   \n",
       "78684        78684         Regular     25507  2023-02-21 00:00:00   1258   \n",
       "351864      351864         Regular     25510  2023-08-22 00:00:00   1254   \n",
       "599228      599228  Service Center     25507  2022-01-25 00:00:00   1257   \n",
       "599469      599469  Service Center     25507  2022-02-07 00:00:00   1251   \n",
       "599628      599628  Service Center     25507  2022-02-10 00:00:00   1238   \n",
       "\n",
       "         item  item_encoded  \n",
       "73931   15586         15586  \n",
       "78684   10631         10631  \n",
       "351864  50190         50190  \n",
       "599228  10202         10202  \n",
       "599469   8920          8920  \n",
       "599628   6655          6655  "
      ]
     },
     "metadata": {},
     "output_type": "display_data"
    }
   ],
   "source": [
    "display(filtered_df.head(6))"
   ]
  },
  {
   "cell_type": "code",
   "execution_count": 26,
   "metadata": {},
   "outputs": [
    {
     "name": "stderr",
     "output_type": "stream",
     "text": [
      "C:\\Users\\c45526\\AppData\\Local\\Temp\\ipykernel_23768\\550572195.py:3: FutureWarning: DataFrame.applymap has been deprecated. Use DataFrame.map instead.\n",
      "  transaction_matrix = transaction_matrix.applymap(lambda x: 1 if x > 0 else 0)\n"
     ]
    }
   ],
   "source": [
    "# Create the transaction matrix\n",
    "transaction_matrix = filtered_df.groupby([\"Order\", \"item\"]).size().unstack(fill_value=0)\n",
    "transaction_matrix = transaction_matrix.applymap(lambda x: 1 if x > 0 else 0)"
   ]
  },
  {
   "cell_type": "code",
   "execution_count": 27,
   "metadata": {},
   "outputs": [],
   "source": [
    "# Add customer type to each order for optional clustering use\n",
    "order_to_customer_type = df.groupby(\"Order\")[\"Customer_Type\"].first()\n",
    "transaction_matrix[\"Customer_Type\"] = transaction_matrix.index.map(order_to_customer_type)"
   ]
  },
  {
   "cell_type": "code",
   "execution_count": 28,
   "metadata": {},
   "outputs": [],
   "source": [
    "X_knn = transaction_matrix.drop(columns=[\"Customer_Type\"])"
   ]
  },
  {
   "cell_type": "code",
   "execution_count": 30,
   "metadata": {},
   "outputs": [
    {
     "data": {
      "text/plain": [
       "(item   35  43  124  142  144  176  177  182  189  218  ...  64806  64822  \\\n",
       " Order                                                  ...                 \n",
       " 1232    0   0    0    0    0    0    0    0    0    0  ...      0      0   \n",
       " 1233    0   0    0    0    0    0    0    0    0    0  ...      0      1   \n",
       " 1234    0   0    0    0    0    0    0    0    0    0  ...      0      0   \n",
       " 1235    0   0    0    0    0    0    0    0    0    1  ...      0      0   \n",
       " 1236    0   0    0    0    0    0    0    1    0    0  ...      1      0   \n",
       " \n",
       " item   65174  65423  65921  66061  66065  68137  72332   Customer_Type  \n",
       " Order                                                                   \n",
       " 1232       1      0      0      0      0      0      0  Service Center  \n",
       " 1233       0      0      0      0      0      0      0  Service Center  \n",
       " 1234       0      0      0      0      0      0      0  Service Center  \n",
       " 1235       0      0      0      0      0      0      0  Service Center  \n",
       " 1236       0      0      0      0      0      0      0  Service Center  \n",
       " \n",
       " [5 rows x 648 columns],\n",
       " {'total_orders': 25,\n",
       "  'total_unique_items': 647,\n",
       "  'example_items': [35, 43, 124, 142, 144, 176, 177, 182, 189, 218]})"
      ]
     },
     "execution_count": 30,
     "metadata": {},
     "output_type": "execute_result"
    }
   ],
   "source": [
    "# Show a preview of the transaction matrix and basic summary without using ace_tools\n",
    "preview_matrix = transaction_matrix.head()\n",
    "summary = {\n",
    "    \"total_orders\": transaction_matrix.shape[0],\n",
    "    \"total_unique_items\": X_knn.shape[1],\n",
    "    \"example_items\": X_knn.columns[:10].tolist()\n",
    "}\n",
    "\n",
    "preview_matrix, summary\n"
   ]
  },
  {
   "cell_type": "markdown",
   "metadata": {},
   "source": [
    "# KMeans Clustering"
   ]
  },
  {
   "cell_type": "code",
   "execution_count": 32,
   "metadata": {},
   "outputs": [],
   "source": [
    "# Apply KMeans clustering\n",
    "kmeans = KMeans(n_clusters=5, random_state=42)  # Adjust n_clusters as needed\n",
    "transaction_matrix[\"Cluster\"] = kmeans.fit_predict(X_knn)\n",
    "# Show the first few rows of the transaction matrix with clusters"
   ]
  },
  {
   "cell_type": "code",
   "execution_count": 33,
   "metadata": {},
   "outputs": [
    {
     "data": {
      "image/png": "[encoded data removed]",
      "text/plain": [
       "<Figure size 1000x600 with 2 Axes>"
      ]
     },
     "metadata": {},
     "output_type": "display_data"
    }
   ],
   "source": [
    "# Visualize clusters using PCA\n",
    "pca = PCA(n_components=2)  \n",
    "X_pca = pca.fit_transform(X_knn)\n",
    "plt.figure(figsize=(10, 6))\n",
    "\n",
    "scatter = plt.scatter(X_pca[:, 0], X_pca[:, 1], c=transaction_matrix[\"Cluster\"], cmap='tab10', alpha=0.5)\n",
    "plt.title(\"PCA of Transaction Matrix Clusters\")\n",
    "plt.xlabel(\"PCA Component 1\")  \n",
    "plt.ylabel(\"PCA Component 2\")\n",
    "plt.colorbar(scatter, label='Cluster') \n",
    "plt.tight_layout()\n",
    "plt.show()"
   ]
  },
  {
   "cell_type": "markdown",
   "metadata": {},
   "source": [
    "> The light blue clusters are the densest group, these are most likely the Service center orders that have overlapping itemsets.(makes sense given that alot of service center techs will order parts based on a preliminary diagnos vs and in depth one)\n",
    "\n",
    "> Other  colers appear to be outliers/subgroups based on small purchasing behavior."
   ]
  },
  {
   "cell_type": "markdown",
   "metadata": {},
   "source": [
    "# KNN for finding similar orders"
   ]
  },
  {
   "cell_type": "code",
   "execution_count": 46,
   "metadata": {},
   "outputs": [
    {
     "data": {
      "text/html": [
       "<style>#sk-container-id-4 {\n",
       "  /* Definition of color scheme common for light and dark mode */\n",
       "  --sklearn-color-text: black;\n",
       "  --sklearn-color-line: gray;\n",
       "  /* Definition of color scheme for unfitted estimators */\n",
       "  --sklearn-color-unfitted-level-0: #fff5e6;\n",
       "  --sklearn-color-unfitted-level-1: #f6e4d2;\n",
       "  --sklearn-color-unfitted-level-2: #ffe0b3;\n",
       "  --sklearn-color-unfitted-level-3: chocolate;\n",
       "  /* Definition of color scheme for fitted estimators */\n",
       "  --sklearn-color-fitted-level-0: #f0f8ff;\n",
       "  --sklearn-color-fitted-level-1: #d4ebff;\n",
       "  --sklearn-color-fitted-level-2: #b3dbfd;\n",
       "  --sklearn-color-fitted-level-3: cornflowerblue;\n",
       "\n",
       "  /* Specific color for light theme */\n",
       "  --sklearn-color-text-on-default-background: var(--sg-text-color, var(--theme-code-foreground, var(--jp-content-font-color1, black)));\n",
       "  --sklearn-color-background: var(--sg-background-color, var(--theme-background, var(--jp-layout-color0, white)));\n",
       "  --sklearn-color-border-box: var(--sg-text-color, var(--theme-code-foreground, var(--jp-content-font-color1, black)));\n",
       "  --sklearn-color-icon: #696969;\n",
       "\n",
       "  @media (prefers-color-scheme: dark) {\n",
       "    /* Redefinition of color scheme for dark theme */\n",
       "    --sklearn-color-text-on-default-background: var(--sg-text-color, var(--theme-code-foreground, var(--jp-content-font-color1, white)));\n",
       "    --sklearn-color-background: var(--sg-background-color, var(--theme-background, var(--jp-layout-color0, #111)));\n",
       "    --sklearn-color-border-box: var(--sg-text-color, var(--theme-code-foreground, var(--jp-content-font-color1, white)));\n",
       "    --sklearn-color-icon: #878787;\n",
       "  }\n",
       "}\n",
       "\n",
       "#sk-container-id-4 {\n",
       "  color: var(--sklearn-color-text);\n",
       "}\n",
       "\n",
       "#sk-container-id-4 pre {\n",
       "  padding: 0;\n",
       "}\n",
       "\n",
       "#sk-container-id-4 input.sk-hidden--visually {\n",
       "  border: 0;\n",
       "  clip: rect(1px 1px 1px 1px);\n",
       "  clip: rect(1px, 1px, 1px, 1px);\n",
       "  height: 1px;\n",
       "  margin: -1px;\n",
       "  overflow: hidden;\n",
       "  padding: 0;\n",
       "  position: absolute;\n",
       "  width: 1px;\n",
       "}\n",
       "\n",
       "#sk-container-id-4 div.sk-dashed-wrapped {\n",
       "  border: 1px dashed var(--sklearn-color-line);\n",
       "  margin: 0 0.4em 0.5em 0.4em;\n",
       "  box-sizing: border-box;\n",
       "  padding-bottom: 0.4em;\n",
       "  background-color: var(--sklearn-color-background);\n",
       "}\n",
       "\n",
       "#sk-container-id-4 div.sk-container {\n",
       "  /* jupyter's `normalize.less` sets `[hidden] { display: none; }`\n",
       "     but bootstrap.min.css set `[hidden] { display: none !important; }`\n",
       "     so we also need the `!important` here to be able to override the\n",
       "     default hidden behavior on the sphinx rendered scikit-learn.org.\n",
       "     See: https://github.com/scikit-learn/scikit-learn/issues/21755 */\n",
       "  display: inline-block !important;\n",
       "  position: relative;\n",
       "}\n",
       "\n",
       "#sk-container-id-4 div.sk-text-repr-fallback {\n",
       "  display: none;\n",
       "}\n",
       "\n",
       "div.sk-parallel-item,\n",
       "div.sk-serial,\n",
       "div.sk-item {\n",
       "  /* draw centered vertical line to link estimators */\n",
       "  background-image: linear-gradient(var(--sklearn-color-text-on-default-background), var(--sklearn-color-text-on-default-background));\n",
       "  background-size: 2px 100%;\n",
       "  background-repeat: no-repeat;\n",
       "  background-position: center center;\n",
       "}\n",
       "\n",
       "/* Parallel-specific style estimator block */\n",
       "\n",
       "#sk-container-id-4 div.sk-parallel-item::after {\n",
       "  content: \"\";\n",
       "  width: 100%;\n",
       "  border-bottom: 2px solid var(--sklearn-color-text-on-default-background);\n",
       "  flex-grow: 1;\n",
       "}\n",
       "\n",
       "#sk-container-id-4 div.sk-parallel {\n",
       "  display: flex;\n",
       "  align-items: stretch;\n",
       "  justify-content: center;\n",
       "  background-color: var(--sklearn-color-background);\n",
       "  position: relative;\n",
       "}\n",
       "\n",
       "#sk-container-id-4 div.sk-parallel-item {\n",
       "  display: flex;\n",
       "  flex-direction: column;\n",
       "}\n",
       "\n",
       "#sk-container-id-4 div.sk-parallel-item:first-child::after {\n",
       "  align-self: flex-end;\n",
       "  width: 50%;\n",
       "}\n",
       "\n",
       "#sk-container-id-4 div.sk-parallel-item:last-child::after {\n",
       "  align-self: flex-start;\n",
       "  width: 50%;\n",
       "}\n",
       "\n",
       "#sk-container-id-4 div.sk-parallel-item:only-child::after {\n",
       "  width: 0;\n",
       "}\n",
       "\n",
       "/* Serial-specific style estimator block */\n",
       "\n",
       "#sk-container-id-4 div.sk-serial {\n",
       "  display: flex;\n",
       "  flex-direction: column;\n",
       "  align-items: center;\n",
       "  background-color: var(--sklearn-color-background);\n",
       "  padding-right: 1em;\n",
       "  padding-left: 1em;\n",
       "}\n",
       "\n",
       "\n",
       "/* Toggleable style: style used for estimator/Pipeline/ColumnTransformer box that is\n",
       "clickable and can be expanded/collapsed.\n",
       "- Pipeline and ColumnTransformer use this feature and define the default style\n",
       "- Estimators will overwrite some part of the style using the `sk-estimator` class\n",
       "*/\n",
       "\n",
       "/* Pipeline and ColumnTransformer style (default) */\n",
       "\n",
       "#sk-container-id-4 div.sk-toggleable {\n",
       "  /* Default theme specific background. It is overwritten whether we have a\n",
       "  specific estimator or a Pipeline/ColumnTransformer */\n",
       "  background-color: var(--sklearn-color-background);\n",
       "}\n",
       "\n",
       "/* Toggleable label */\n",
       "#sk-container-id-4 label.sk-toggleable__label {\n",
       "  cursor: pointer;\n",
       "  display: block;\n",
       "  width: 100%;\n",
       "  margin-bottom: 0;\n",
       "  padding: 0.5em;\n",
       "  box-sizing: border-box;\n",
       "  text-align: center;\n",
       "}\n",
       "\n",
       "#sk-container-id-4 label.sk-toggleable__label-arrow:before {\n",
       "  /* Arrow on the left of the label */\n",
       "  content: \"▸\";\n",
       "  float: left;\n",
       "  margin-right: 0.25em;\n",
       "  color: var(--sklearn-color-icon);\n",
       "}\n",
       "\n",
       "#sk-container-id-4 label.sk-toggleable__label-arrow:hover:before {\n",
       "  color: var(--sklearn-color-text);\n",
       "}\n",
       "\n",
       "/* Toggleable content - dropdown */\n",
       "\n",
       "#sk-container-id-4 div.sk-toggleable__content {\n",
       "  max-height: 0;\n",
       "  max-width: 0;\n",
       "  overflow: hidden;\n",
       "  text-align: left;\n",
       "  /* unfitted */\n",
       "  background-color: var(--sklearn-color-unfitted-level-0);\n",
       "}\n",
       "\n",
       "#sk-container-id-4 div.sk-toggleable__content.fitted {\n",
       "  /* fitted */\n",
       "  background-color: var(--sklearn-color-fitted-level-0);\n",
       "}\n",
       "\n",
       "#sk-container-id-4 div.sk-toggleable__content pre {\n",
       "  margin: 0.2em;\n",
       "  border-radius: 0.25em;\n",
       "  color: var(--sklearn-color-text);\n",
       "  /* unfitted */\n",
       "  background-color: var(--sklearn-color-unfitted-level-0);\n",
       "}\n",
       "\n",
       "#sk-container-id-4 div.sk-toggleable__content.fitted pre {\n",
       "  /* unfitted */\n",
       "  background-color: var(--sklearn-color-fitted-level-0);\n",
       "}\n",
       "\n",
       "#sk-container-id-4 input.sk-toggleable__control:checked~div.sk-toggleable__content {\n",
       "  /* Expand drop-down */\n",
       "  max-height: 200px;\n",
       "  max-width: 100%;\n",
       "  overflow: auto;\n",
       "}\n",
       "\n",
       "#sk-container-id-4 input.sk-toggleable__control:checked~label.sk-toggleable__label-arrow:before {\n",
       "  content: \"▾\";\n",
       "}\n",
       "\n",
       "/* Pipeline/ColumnTransformer-specific style */\n",
       "\n",
       "#sk-container-id-4 div.sk-label input.sk-toggleable__control:checked~label.sk-toggleable__label {\n",
       "  color: var(--sklearn-color-text);\n",
       "  background-color: var(--sklearn-color-unfitted-level-2);\n",
       "}\n",
       "\n",
       "#sk-container-id-4 div.sk-label.fitted input.sk-toggleable__control:checked~label.sk-toggleable__label {\n",
       "  background-color: var(--sklearn-color-fitted-level-2);\n",
       "}\n",
       "\n",
       "/* Estimator-specific style */\n",
       "\n",
       "/* Colorize estimator box */\n",
       "#sk-container-id-4 div.sk-estimator input.sk-toggleable__control:checked~label.sk-toggleable__label {\n",
       "  /* unfitted */\n",
       "  background-color: var(--sklearn-color-unfitted-level-2);\n",
       "}\n",
       "\n",
       "#sk-container-id-4 div.sk-estimator.fitted input.sk-toggleable__control:checked~label.sk-toggleable__label {\n",
       "  /* fitted */\n",
       "  background-color: var(--sklearn-color-fitted-level-2);\n",
       "}\n",
       "\n",
       "#sk-container-id-4 div.sk-label label.sk-toggleable__label,\n",
       "#sk-container-id-4 div.sk-label label {\n",
       "  /* The background is the default theme color */\n",
       "  color: var(--sklearn-color-text-on-default-background);\n",
       "}\n",
       "\n",
       "/* On hover, darken the color of the background */\n",
       "#sk-container-id-4 div.sk-label:hover label.sk-toggleable__label {\n",
       "  color: var(--sklearn-color-text);\n",
       "  background-color: var(--sklearn-color-unfitted-level-2);\n",
       "}\n",
       "\n",
       "/* Label box, darken color on hover, fitted */\n",
       "#sk-container-id-4 div.sk-label.fitted:hover label.sk-toggleable__label.fitted {\n",
       "  color: var(--sklearn-color-text);\n",
       "  background-color: var(--sklearn-color-fitted-level-2);\n",
       "}\n",
       "\n",
       "/* Estimator label */\n",
       "\n",
       "#sk-container-id-4 div.sk-label label {\n",
       "  font-family: monospace;\n",
       "  font-weight: bold;\n",
       "  display: inline-block;\n",
       "  line-height: 1.2em;\n",
       "}\n",
       "\n",
       "#sk-container-id-4 div.sk-label-container {\n",
       "  text-align: center;\n",
       "}\n",
       "\n",
       "/* Estimator-specific */\n",
       "#sk-container-id-4 div.sk-estimator {\n",
       "  font-family: monospace;\n",
       "  border: 1px dotted var(--sklearn-color-border-box);\n",
       "  border-radius: 0.25em;\n",
       "  box-sizing: border-box;\n",
       "  margin-bottom: 0.5em;\n",
       "  /* unfitted */\n",
       "  background-color: var(--sklearn-color-unfitted-level-0);\n",
       "}\n",
       "\n",
       "#sk-container-id-4 div.sk-estimator.fitted {\n",
       "  /* fitted */\n",
       "  background-color: var(--sklearn-color-fitted-level-0);\n",
       "}\n",
       "\n",
       "/* on hover */\n",
       "#sk-container-id-4 div.sk-estimator:hover {\n",
       "  /* unfitted */\n",
       "  background-color: var(--sklearn-color-unfitted-level-2);\n",
       "}\n",
       "\n",
       "#sk-container-id-4 div.sk-estimator.fitted:hover {\n",
       "  /* fitted */\n",
       "  background-color: var(--sklearn-color-fitted-level-2);\n",
       "}\n",
       "\n",
       "/* Specification for estimator info (e.g. \"i\" and \"?\") */\n",
       "\n",
       "/* Common style for \"i\" and \"?\" */\n",
       "\n",
       ".sk-estimator-doc-link,\n",
       "a:link.sk-estimator-doc-link,\n",
       "a:visited.sk-estimator-doc-link {\n",
       "  float: right;\n",
       "  font-size: smaller;\n",
       "  line-height: 1em;\n",
       "  font-family: monospace;\n",
       "  background-color: var(--sklearn-color-background);\n",
       "  border-radius: 1em;\n",
       "  height: 1em;\n",
       "  width: 1em;\n",
       "  text-decoration: none !important;\n",
       "  margin-left: 1ex;\n",
       "  /* unfitted */\n",
       "  border: var(--sklearn-color-unfitted-level-1) 1pt solid;\n",
       "  color: var(--sklearn-color-unfitted-level-1);\n",
       "}\n",
       "\n",
       ".sk-estimator-doc-link.fitted,\n",
       "a:link.sk-estimator-doc-link.fitted,\n",
       "a:visited.sk-estimator-doc-link.fitted {\n",
       "  /* fitted */\n",
       "  border: var(--sklearn-color-fitted-level-1) 1pt solid;\n",
       "  color: var(--sklearn-color-fitted-level-1);\n",
       "}\n",
       "\n",
       "/* On hover */\n",
       "div.sk-estimator:hover .sk-estimator-doc-link:hover,\n",
       ".sk-estimator-doc-link:hover,\n",
       "div.sk-label-container:hover .sk-estimator-doc-link:hover,\n",
       ".sk-estimator-doc-link:hover {\n",
       "  /* unfitted */\n",
       "  background-color: var(--sklearn-color-unfitted-level-3);\n",
       "  color: var(--sklearn-color-background);\n",
       "  text-decoration: none;\n",
       "}\n",
       "\n",
       "div.sk-estimator.fitted:hover .sk-estimator-doc-link.fitted:hover,\n",
       ".sk-estimator-doc-link.fitted:hover,\n",
       "div.sk-label-container:hover .sk-estimator-doc-link.fitted:hover,\n",
       ".sk-estimator-doc-link.fitted:hover {\n",
       "  /* fitted */\n",
       "  background-color: var(--sklearn-color-fitted-level-3);\n",
       "  color: var(--sklearn-color-background);\n",
       "  text-decoration: none;\n",
       "}\n",
       "\n",
       "/* Span, style for the box shown on hovering the info icon */\n",
       ".sk-estimator-doc-link span {\n",
       "  display: none;\n",
       "  z-index: 9999;\n",
       "  position: relative;\n",
       "  font-weight: normal;\n",
       "  right: .2ex;\n",
       "  padding: .5ex;\n",
       "  margin: .5ex;\n",
       "  width: min-content;\n",
       "  min-width: 20ex;\n",
       "  max-width: 50ex;\n",
       "  color: var(--sklearn-color-text);\n",
       "  box-shadow: 2pt 2pt 4pt #999;\n",
       "  /* unfitted */\n",
       "  background: var(--sklearn-color-unfitted-level-0);\n",
       "  border: .5pt solid var(--sklearn-color-unfitted-level-3);\n",
       "}\n",
       "\n",
       ".sk-estimator-doc-link.fitted span {\n",
       "  /* fitted */\n",
       "  background: var(--sklearn-color-fitted-level-0);\n",
       "  border: var(--sklearn-color-fitted-level-3);\n",
       "}\n",
       "\n",
       ".sk-estimator-doc-link:hover span {\n",
       "  display: block;\n",
       "}\n",
       "\n",
       "/* \"?\"-specific style due to the `<a>` HTML tag */\n",
       "\n",
       "#sk-container-id-4 a.estimator_doc_link {\n",
       "  float: right;\n",
       "  font-size: 1rem;\n",
       "  line-height: 1em;\n",
       "  font-family: monospace;\n",
       "  background-color: var(--sklearn-color-background);\n",
       "  border-radius: 1rem;\n",
       "  height: 1rem;\n",
       "  width: 1rem;\n",
       "  text-decoration: none;\n",
       "  /* unfitted */\n",
       "  color: var(--sklearn-color-unfitted-level-1);\n",
       "  border: var(--sklearn-color-unfitted-level-1) 1pt solid;\n",
       "}\n",
       "\n",
       "#sk-container-id-4 a.estimator_doc_link.fitted {\n",
       "  /* fitted */\n",
       "  border: var(--sklearn-color-fitted-level-1) 1pt solid;\n",
       "  color: var(--sklearn-color-fitted-level-1);\n",
       "}\n",
       "\n",
       "/* On hover */\n",
       "#sk-container-id-4 a.estimator_doc_link:hover {\n",
       "  /* unfitted */\n",
       "  background-color: var(--sklearn-color-unfitted-level-3);\n",
       "  color: var(--sklearn-color-background);\n",
       "  text-decoration: none;\n",
       "}\n",
       "\n",
       "#sk-container-id-4 a.estimator_doc_link.fitted:hover {\n",
       "  /* fitted */\n",
       "  background-color: var(--sklearn-color-fitted-level-3);\n",
       "}\n",
       "</style><div id=\"sk-container-id-4\" class=\"sk-top-container\"><div class=\"sk-text-repr-fallback\"><pre>NearestNeighbors(metric=&#x27;cosine&#x27;)</pre><b>In a Jupyter environment, please rerun this cell to show the HTML representation or trust the notebook. <br />On GitHub, the HTML representation is unable to render, please try loading this page with nbviewer.org.</b></div><div class=\"sk-container\" hidden><div class=\"sk-item\"><div class=\"sk-estimator fitted sk-toggleable\"><input class=\"sk-toggleable__control sk-hidden--visually\" id=\"sk-estimator-id-4\" type=\"checkbox\" checked><label for=\"sk-estimator-id-4\" class=\"sk-toggleable__label fitted sk-toggleable__label-arrow fitted\">&nbsp;&nbsp;NearestNeighbors<a class=\"sk-estimator-doc-link fitted\" rel=\"noreferrer\" target=\"_blank\" href=\"https://scikit-learn.org/1.4/modules/generated/sklearn.neighbors.NearestNeighbors.html\">?<span>Documentation for NearestNeighbors</span></a><span class=\"sk-estimator-doc-link fitted\">i<span>Fitted</span></span></label><div class=\"sk-toggleable__content fitted\"><pre>NearestNeighbors(metric=&#x27;cosine&#x27;)</pre></div> </div></div></div></div>"
      ],
      "text/plain": [
       "NearestNeighbors(metric='cosine')"
      ]
     },
     "execution_count": 46,
     "metadata": {},
     "output_type": "execute_result"
    }
   ],
   "source": [
    "knn_model = NearestNeighbors(n_neighbors=5,metric='cosine') # Using cosine distance for similarity\n",
    "knn_model.fit(X_knn) # Fit the model to the transaction matrix"
   ]
  },
  {
   "cell_type": "code",
   "execution_count": 47,
   "metadata": {},
   "outputs": [],
   "source": [
    "sample_index = 0\n",
    "distances, indices = knn_model.kneighbors([X_knn.iloc[sample_index]]) # Find the nearest neighbors for the first order"
   ]
  },
  {
   "cell_type": "code",
   "execution_count": 48,
   "metadata": {},
   "outputs": [
    {
     "data": {
      "application/vnd.microsoft.datawrangler.viewer.v0+json": {
       "columns": [
        {
         "name": "Order",
         "rawType": "int64",
         "type": "integer"
        },
        {
         "name": "35",
         "rawType": "int64",
         "type": "integer"
        },
        {
         "name": "43",
         "rawType": "int64",
         "type": "integer"
        },
        {
         "name": "124",
         "rawType": "int64",
         "type": "integer"
        },
        {
         "name": "142",
         "rawType": "int64",
         "type": "integer"
        },
        {
         "name": "144",
         "rawType": "int64",
         "type": "integer"
        },
        {
         "name": "176",
         "rawType": "int64",
         "type": "integer"
        },
        {
         "name": "177",
         "rawType": "int64",
         "type": "integer"
        },
        {
         "name": "182",
         "rawType": "int64",
         "type": "integer"
        },
        {
         "name": "189",
         "rawType": "int64",
         "type": "integer"
        },
        {
         "name": "218",
         "rawType": "int64",
         "type": "integer"
        },
        {
         "name": "248",
         "rawType": "int64",
         "type": "integer"
        },
        {
         "name": "292",
         "rawType": "int64",
         "type": "integer"
        },
        {
         "name": "293",
         "rawType": "int64",
         "type": "integer"
        },
        {
         "name": "311",
         "rawType": "int64",
         "type": "integer"
        },
        {
         "name": "376",
         "rawType": "int64",
         "type": "integer"
        },
        {
         "name": "385",
         "rawType": "int64",
         "type": "integer"
        },
        {
         "name": "386",
         "rawType": "int64",
         "type": "integer"
        },
        {
         "name": "394",
         "rawType": "int64",
         "type": "integer"
        },
        {
         "name": "412",
         "rawType": "int64",
         "type": "integer"
        },
        {
         "name": "464",
         "rawType": "int64",
         "type": "integer"
        },
        {
         "name": "532",
         "rawType": "int64",
         "type": "integer"
        },
        {
         "name": "643",
         "rawType": "int64",
         "type": "integer"
        },
        {
         "name": "646",
         "rawType": "int64",
         "type": "integer"
        },
        {
         "name": "656",
         "rawType": "int64",
         "type": "integer"
        },
        {
         "name": "671",
         "rawType": "int64",
         "type": "integer"
        },
        {
         "name": "674",
         "rawType": "int64",
         "type": "integer"
        },
        {
         "name": "690",
         "rawType": "int64",
         "type": "integer"
        },
        {
         "name": "698",
         "rawType": "int64",
         "type": "integer"
        },
        {
         "name": "699",
         "rawType": "int64",
         "type": "integer"
        },
        {
         "name": "709",
         "rawType": "int64",
         "type": "integer"
        },
        {
         "name": "715",
         "rawType": "int64",
         "type": "integer"
        },
        {
         "name": "716",
         "rawType": "int64",
         "type": "integer"
        },
        {
         "name": "723",
         "rawType": "int64",
         "type": "integer"
        },
        {
         "name": "760",
         "rawType": "int64",
         "type": "integer"
        },
        {
         "name": "761",
         "rawType": "int64",
         "type": "integer"
        },
        {
         "name": "765",
         "rawType": "int64",
         "type": "integer"
        },
        {
         "name": "768",
         "rawType": "int64",
         "type": "integer"
        },
        {
         "name": "796",
         "rawType": "int64",
         "type": "integer"
        },
        {
         "name": "812",
         "rawType": "int64",
         "type": "integer"
        },
        {
         "name": "817",
         "rawType": "int64",
         "type": "integer"
        },
        {
         "name": "829",
         "rawType": "int64",
         "type": "integer"
        },
        {
         "name": "833",
         "rawType": "int64",
         "type": "integer"
        },
        {
         "name": "878",
         "rawType": "int64",
         "type": "integer"
        },
        {
         "name": "881",
         "rawType": "int64",
         "type": "integer"
        },
        {
         "name": "883",
         "rawType": "int64",
         "type": "integer"
        },
        {
         "name": "894",
         "rawType": "int64",
         "type": "integer"
        },
        {
         "name": "899",
         "rawType": "int64",
         "type": "integer"
        },
        {
         "name": "920",
         "rawType": "int64",
         "type": "integer"
        },
        {
         "name": "921",
         "rawType": "int64",
         "type": "integer"
        },
        {
         "name": "931",
         "rawType": "int64",
         "type": "integer"
        },
        {
         "name": "937",
         "rawType": "int64",
         "type": "integer"
        },
        {
         "name": "949",
         "rawType": "int64",
         "type": "integer"
        },
        {
         "name": "961",
         "rawType": "int64",
         "type": "integer"
        },
        {
         "name": "968",
         "rawType": "int64",
         "type": "integer"
        },
        {
         "name": "970",
         "rawType": "int64",
         "type": "integer"
        },
        {
         "name": "1004",
         "rawType": "int64",
         "type": "integer"
        },
        {
         "name": "1009",
         "rawType": "int64",
         "type": "integer"
        },
        {
         "name": "1010",
         "rawType": "int64",
         "type": "integer"
        },
        {
         "name": "1011",
         "rawType": "int64",
         "type": "integer"
        },
        {
         "name": "1035",
         "rawType": "int64",
         "type": "integer"
        },
        {
         "name": "1047",
         "rawType": "int64",
         "type": "integer"
        },
        {
         "name": "1051",
         "rawType": "int64",
         "type": "integer"
        },
        {
         "name": "1059",
         "rawType": "int64",
         "type": "integer"
        },
        {
         "name": "1137",
         "rawType": "int64",
         "type": "integer"
        },
        {
         "name": "1144",
         "rawType": "int64",
         "type": "integer"
        },
        {
         "name": "1157",
         "rawType": "int64",
         "type": "integer"
        },
        {
         "name": "1160",
         "rawType": "int64",
         "type": "integer"
        },
        {
         "name": "1161",
         "rawType": "int64",
         "type": "integer"
        },
        {
         "name": "1192",
         "rawType": "int64",
         "type": "integer"
        },
        {
         "name": "1198",
         "rawType": "int64",
         "type": "integer"
        },
        {
         "name": "1241",
         "rawType": "int64",
         "type": "integer"
        },
        {
         "name": "1265",
         "rawType": "int64",
         "type": "integer"
        },
        {
         "name": "1269",
         "rawType": "int64",
         "type": "integer"
        },
        {
         "name": "1272",
         "rawType": "int64",
         "type": "integer"
        },
        {
         "name": "1275",
         "rawType": "int64",
         "type": "integer"
        },
        {
         "name": "1285",
         "rawType": "int64",
         "type": "integer"
        },
        {
         "name": "1301",
         "rawType": "int64",
         "type": "integer"
        },
        {
         "name": "1303",
         "rawType": "int64",
         "type": "integer"
        },
        {
         "name": "1307",
         "rawType": "int64",
         "type": "integer"
        },
        {
         "name": "1318",
         "rawType": "int64",
         "type": "integer"
        },
        {
         "name": "1325",
         "rawType": "int64",
         "type": "integer"
        },
        {
         "name": "1376",
         "rawType": "int64",
         "type": "integer"
        },
        {
         "name": "1387",
         "rawType": "int64",
         "type": "integer"
        },
        {
         "name": "1399",
         "rawType": "int64",
         "type": "integer"
        },
        {
         "name": "1400",
         "rawType": "int64",
         "type": "integer"
        },
        {
         "name": "1402",
         "rawType": "int64",
         "type": "integer"
        },
        {
         "name": "1414",
         "rawType": "int64",
         "type": "integer"
        },
        {
         "name": "1415",
         "rawType": "int64",
         "type": "integer"
        },
        {
         "name": "1425",
         "rawType": "int64",
         "type": "integer"
        },
        {
         "name": "1443",
         "rawType": "int64",
         "type": "integer"
        },
        {
         "name": "1444",
         "rawType": "int64",
         "type": "integer"
        },
        {
         "name": "1463",
         "rawType": "int64",
         "type": "integer"
        },
        {
         "name": "1464",
         "rawType": "int64",
         "type": "integer"
        },
        {
         "name": "1486",
         "rawType": "int64",
         "type": "integer"
        },
        {
         "name": "1492",
         "rawType": "int64",
         "type": "integer"
        },
        {
         "name": "1535",
         "rawType": "int64",
         "type": "integer"
        },
        {
         "name": "1605",
         "rawType": "int64",
         "type": "integer"
        },
        {
         "name": "1612",
         "rawType": "int64",
         "type": "integer"
        },
        {
         "name": "1614",
         "rawType": "int64",
         "type": "integer"
        },
        {
         "name": "1666",
         "rawType": "int64",
         "type": "integer"
        },
        {
         "name": "1670",
         "rawType": "int64",
         "type": "integer"
        },
        {
         "name": "1685",
         "rawType": "int64",
         "type": "integer"
        },
        {
         "name": "1703",
         "rawType": "int64",
         "type": "integer"
        },
        {
         "name": "1711",
         "rawType": "int64",
         "type": "integer"
        },
        {
         "name": "1735",
         "rawType": "int64",
         "type": "integer"
        },
        {
         "name": "1736",
         "rawType": "int64",
         "type": "integer"
        },
        {
         "name": "1761",
         "rawType": "int64",
         "type": "integer"
        },
        {
         "name": "1848",
         "rawType": "int64",
         "type": "integer"
        },
        {
         "name": "1856",
         "rawType": "int64",
         "type": "integer"
        },
        {
         "name": "1976",
         "rawType": "int64",
         "type": "integer"
        },
        {
         "name": "1983",
         "rawType": "int64",
         "type": "integer"
        },
        {
         "name": "1993",
         "rawType": "int64",
         "type": "integer"
        },
        {
         "name": "2045",
         "rawType": "int64",
         "type": "integer"
        },
        {
         "name": "2047",
         "rawType": "int64",
         "type": "integer"
        },
        {
         "name": "2057",
         "rawType": "int64",
         "type": "integer"
        },
        {
         "name": "2058",
         "rawType": "int64",
         "type": "integer"
        },
        {
         "name": "2060",
         "rawType": "int64",
         "type": "integer"
        },
        {
         "name": "2139",
         "rawType": "int64",
         "type": "integer"
        },
        {
         "name": "2148",
         "rawType": "int64",
         "type": "integer"
        },
        {
         "name": "2151",
         "rawType": "int64",
         "type": "integer"
        },
        {
         "name": "2261",
         "rawType": "int64",
         "type": "integer"
        },
        {
         "name": "2345",
         "rawType": "int64",
         "type": "integer"
        },
        {
         "name": "2374",
         "rawType": "int64",
         "type": "integer"
        },
        {
         "name": "2392",
         "rawType": "int64",
         "type": "integer"
        },
        {
         "name": "2393",
         "rawType": "int64",
         "type": "integer"
        },
        {
         "name": "2400",
         "rawType": "int64",
         "type": "integer"
        },
        {
         "name": "2516",
         "rawType": "int64",
         "type": "integer"
        },
        {
         "name": "2517",
         "rawType": "int64",
         "type": "integer"
        },
        {
         "name": "2537",
         "rawType": "int64",
         "type": "integer"
        },
        {
         "name": "2574",
         "rawType": "int64",
         "type": "integer"
        },
        {
         "name": "2594",
         "rawType": "int64",
         "type": "integer"
        },
        {
         "name": "2625",
         "rawType": "int64",
         "type": "integer"
        },
        {
         "name": "2637",
         "rawType": "int64",
         "type": "integer"
        },
        {
         "name": "2654",
         "rawType": "int64",
         "type": "integer"
        },
        {
         "name": "2682",
         "rawType": "int64",
         "type": "integer"
        },
        {
         "name": "2758",
         "rawType": "int64",
         "type": "integer"
        },
        {
         "name": "2777",
         "rawType": "int64",
         "type": "integer"
        },
        {
         "name": "2803",
         "rawType": "int64",
         "type": "integer"
        },
        {
         "name": "2850",
         "rawType": "int64",
         "type": "integer"
        },
        {
         "name": "2898",
         "rawType": "int64",
         "type": "integer"
        },
        {
         "name": "2960",
         "rawType": "int64",
         "type": "integer"
        },
        {
         "name": "2981",
         "rawType": "int64",
         "type": "integer"
        },
        {
         "name": "3019",
         "rawType": "int64",
         "type": "integer"
        },
        {
         "name": "3023",
         "rawType": "int64",
         "type": "integer"
        },
        {
         "name": "3054",
         "rawType": "int64",
         "type": "integer"
        },
        {
         "name": "3055",
         "rawType": "int64",
         "type": "integer"
        },
        {
         "name": "3144",
         "rawType": "int64",
         "type": "integer"
        },
        {
         "name": "3218",
         "rawType": "int64",
         "type": "integer"
        },
        {
         "name": "3222",
         "rawType": "int64",
         "type": "integer"
        },
        {
         "name": "3224",
         "rawType": "int64",
         "type": "integer"
        },
        {
         "name": "3363",
         "rawType": "int64",
         "type": "integer"
        },
        {
         "name": "3364",
         "rawType": "int64",
         "type": "integer"
        },
        {
         "name": "3365",
         "rawType": "int64",
         "type": "integer"
        },
        {
         "name": "3428",
         "rawType": "int64",
         "type": "integer"
        },
        {
         "name": "3496",
         "rawType": "int64",
         "type": "integer"
        },
        {
         "name": "3501",
         "rawType": "int64",
         "type": "integer"
        },
        {
         "name": "3566",
         "rawType": "int64",
         "type": "integer"
        },
        {
         "name": "3582",
         "rawType": "int64",
         "type": "integer"
        },
        {
         "name": "3619",
         "rawType": "int64",
         "type": "integer"
        },
        {
         "name": "3679",
         "rawType": "int64",
         "type": "integer"
        },
        {
         "name": "3697",
         "rawType": "int64",
         "type": "integer"
        },
        {
         "name": "3700",
         "rawType": "int64",
         "type": "integer"
        },
        {
         "name": "3703",
         "rawType": "int64",
         "type": "integer"
        },
        {
         "name": "3746",
         "rawType": "int64",
         "type": "integer"
        },
        {
         "name": "3753",
         "rawType": "int64",
         "type": "integer"
        },
        {
         "name": "3757",
         "rawType": "int64",
         "type": "integer"
        },
        {
         "name": "3848",
         "rawType": "int64",
         "type": "integer"
        },
        {
         "name": "3917",
         "rawType": "int64",
         "type": "integer"
        },
        {
         "name": "4016",
         "rawType": "int64",
         "type": "integer"
        },
        {
         "name": "4038",
         "rawType": "int64",
         "type": "integer"
        },
        {
         "name": "4039",
         "rawType": "int64",
         "type": "integer"
        },
        {
         "name": "4102",
         "rawType": "int64",
         "type": "integer"
        },
        {
         "name": "4174",
         "rawType": "int64",
         "type": "integer"
        },
        {
         "name": "4182",
         "rawType": "int64",
         "type": "integer"
        },
        {
         "name": "4210",
         "rawType": "int64",
         "type": "integer"
        },
        {
         "name": "4219",
         "rawType": "int64",
         "type": "integer"
        },
        {
         "name": "4235",
         "rawType": "int64",
         "type": "integer"
        },
        {
         "name": "4252",
         "rawType": "int64",
         "type": "integer"
        },
        {
         "name": "4269",
         "rawType": "int64",
         "type": "integer"
        },
        {
         "name": "4278",
         "rawType": "int64",
         "type": "integer"
        },
        {
         "name": "4297",
         "rawType": "int64",
         "type": "integer"
        },
        {
         "name": "4334",
         "rawType": "int64",
         "type": "integer"
        },
        {
         "name": "4352",
         "rawType": "int64",
         "type": "integer"
        },
        {
         "name": "4365",
         "rawType": "int64",
         "type": "integer"
        },
        {
         "name": "4378",
         "rawType": "int64",
         "type": "integer"
        },
        {
         "name": "4385",
         "rawType": "int64",
         "type": "integer"
        },
        {
         "name": "4388",
         "rawType": "int64",
         "type": "integer"
        },
        {
         "name": "4389",
         "rawType": "int64",
         "type": "integer"
        },
        {
         "name": "4429",
         "rawType": "int64",
         "type": "integer"
        },
        {
         "name": "4450",
         "rawType": "int64",
         "type": "integer"
        },
        {
         "name": "4453",
         "rawType": "int64",
         "type": "integer"
        },
        {
         "name": "4454",
         "rawType": "int64",
         "type": "integer"
        },
        {
         "name": "4455",
         "rawType": "int64",
         "type": "integer"
        },
        {
         "name": "4465",
         "rawType": "int64",
         "type": "integer"
        },
        {
         "name": "4475",
         "rawType": "int64",
         "type": "integer"
        },
        {
         "name": "4486",
         "rawType": "int64",
         "type": "integer"
        },
        {
         "name": "4527",
         "rawType": "int64",
         "type": "integer"
        },
        {
         "name": "4528",
         "rawType": "int64",
         "type": "integer"
        },
        {
         "name": "4565",
         "rawType": "int64",
         "type": "integer"
        },
        {
         "name": "4619",
         "rawType": "int64",
         "type": "integer"
        },
        {
         "name": "4633",
         "rawType": "int64",
         "type": "integer"
        },
        {
         "name": "4635",
         "rawType": "int64",
         "type": "integer"
        },
        {
         "name": "4705",
         "rawType": "int64",
         "type": "integer"
        },
        {
         "name": "4760",
         "rawType": "int64",
         "type": "integer"
        },
        {
         "name": "4766",
         "rawType": "int64",
         "type": "integer"
        },
        {
         "name": "4767",
         "rawType": "int64",
         "type": "integer"
        },
        {
         "name": "4770",
         "rawType": "int64",
         "type": "integer"
        },
        {
         "name": "4822",
         "rawType": "int64",
         "type": "integer"
        },
        {
         "name": "4825",
         "rawType": "int64",
         "type": "integer"
        },
        {
         "name": "4889",
         "rawType": "int64",
         "type": "integer"
        },
        {
         "name": "5057",
         "rawType": "int64",
         "type": "integer"
        },
        {
         "name": "5090",
         "rawType": "int64",
         "type": "integer"
        },
        {
         "name": "5101",
         "rawType": "int64",
         "type": "integer"
        },
        {
         "name": "5104",
         "rawType": "int64",
         "type": "integer"
        },
        {
         "name": "5107",
         "rawType": "int64",
         "type": "integer"
        },
        {
         "name": "5168",
         "rawType": "int64",
         "type": "integer"
        },
        {
         "name": "5214",
         "rawType": "int64",
         "type": "integer"
        },
        {
         "name": "5215",
         "rawType": "int64",
         "type": "integer"
        },
        {
         "name": "5227",
         "rawType": "int64",
         "type": "integer"
        },
        {
         "name": "5233",
         "rawType": "int64",
         "type": "integer"
        },
        {
         "name": "5234",
         "rawType": "int64",
         "type": "integer"
        },
        {
         "name": "5240",
         "rawType": "int64",
         "type": "integer"
        },
        {
         "name": "5263",
         "rawType": "int64",
         "type": "integer"
        },
        {
         "name": "5329",
         "rawType": "int64",
         "type": "integer"
        },
        {
         "name": "5347",
         "rawType": "int64",
         "type": "integer"
        },
        {
         "name": "5461",
         "rawType": "int64",
         "type": "integer"
        },
        {
         "name": "5462",
         "rawType": "int64",
         "type": "integer"
        },
        {
         "name": "5463",
         "rawType": "int64",
         "type": "integer"
        },
        {
         "name": "5514",
         "rawType": "int64",
         "type": "integer"
        },
        {
         "name": "5549",
         "rawType": "int64",
         "type": "integer"
        },
        {
         "name": "5584",
         "rawType": "int64",
         "type": "integer"
        },
        {
         "name": "5585",
         "rawType": "int64",
         "type": "integer"
        },
        {
         "name": "5586",
         "rawType": "int64",
         "type": "integer"
        },
        {
         "name": "5588",
         "rawType": "int64",
         "type": "integer"
        },
        {
         "name": "5589",
         "rawType": "int64",
         "type": "integer"
        },
        {
         "name": "5590",
         "rawType": "int64",
         "type": "integer"
        },
        {
         "name": "5592",
         "rawType": "int64",
         "type": "integer"
        },
        {
         "name": "5638",
         "rawType": "int64",
         "type": "integer"
        },
        {
         "name": "5717",
         "rawType": "int64",
         "type": "integer"
        },
        {
         "name": "5730",
         "rawType": "int64",
         "type": "integer"
        },
        {
         "name": "5766",
         "rawType": "int64",
         "type": "integer"
        },
        {
         "name": "5794",
         "rawType": "int64",
         "type": "integer"
        },
        {
         "name": "5803",
         "rawType": "int64",
         "type": "integer"
        },
        {
         "name": "5835",
         "rawType": "int64",
         "type": "integer"
        },
        {
         "name": "5837",
         "rawType": "int64",
         "type": "integer"
        },
        {
         "name": "5906",
         "rawType": "int64",
         "type": "integer"
        },
        {
         "name": "5937",
         "rawType": "int64",
         "type": "integer"
        },
        {
         "name": "5967",
         "rawType": "int64",
         "type": "integer"
        },
        {
         "name": "6010",
         "rawType": "int64",
         "type": "integer"
        },
        {
         "name": "6108",
         "rawType": "int64",
         "type": "integer"
        },
        {
         "name": "6114",
         "rawType": "int64",
         "type": "integer"
        },
        {
         "name": "6140",
         "rawType": "int64",
         "type": "integer"
        },
        {
         "name": "6166",
         "rawType": "int64",
         "type": "integer"
        },
        {
         "name": "6184",
         "rawType": "int64",
         "type": "integer"
        },
        {
         "name": "6187",
         "rawType": "int64",
         "type": "integer"
        },
        {
         "name": "6189",
         "rawType": "int64",
         "type": "integer"
        },
        {
         "name": "6200",
         "rawType": "int64",
         "type": "integer"
        },
        {
         "name": "6237",
         "rawType": "int64",
         "type": "integer"
        },
        {
         "name": "6274",
         "rawType": "int64",
         "type": "integer"
        },
        {
         "name": "6276",
         "rawType": "int64",
         "type": "integer"
        },
        {
         "name": "6325",
         "rawType": "int64",
         "type": "integer"
        },
        {
         "name": "6356",
         "rawType": "int64",
         "type": "integer"
        },
        {
         "name": "6361",
         "rawType": "int64",
         "type": "integer"
        },
        {
         "name": "6390",
         "rawType": "int64",
         "type": "integer"
        },
        {
         "name": "6399",
         "rawType": "int64",
         "type": "integer"
        },
        {
         "name": "6576",
         "rawType": "int64",
         "type": "integer"
        },
        {
         "name": "6579",
         "rawType": "int64",
         "type": "integer"
        },
        {
         "name": "6588",
         "rawType": "int64",
         "type": "integer"
        },
        {
         "name": "6589",
         "rawType": "int64",
         "type": "integer"
        },
        {
         "name": "6600",
         "rawType": "int64",
         "type": "integer"
        },
        {
         "name": "6648",
         "rawType": "int64",
         "type": "integer"
        },
        {
         "name": "6653",
         "rawType": "int64",
         "type": "integer"
        },
        {
         "name": "6655",
         "rawType": "int64",
         "type": "integer"
        },
        {
         "name": "6676",
         "rawType": "int64",
         "type": "integer"
        },
        {
         "name": "6767",
         "rawType": "int64",
         "type": "integer"
        },
        {
         "name": "6799",
         "rawType": "int64",
         "type": "integer"
        },
        {
         "name": "6818",
         "rawType": "int64",
         "type": "integer"
        },
        {
         "name": "6937",
         "rawType": "int64",
         "type": "integer"
        },
        {
         "name": "6942",
         "rawType": "int64",
         "type": "integer"
        },
        {
         "name": "6994",
         "rawType": "int64",
         "type": "integer"
        },
        {
         "name": "6996",
         "rawType": "int64",
         "type": "integer"
        },
        {
         "name": "7010",
         "rawType": "int64",
         "type": "integer"
        },
        {
         "name": "7017",
         "rawType": "int64",
         "type": "integer"
        },
        {
         "name": "7080",
         "rawType": "int64",
         "type": "integer"
        },
        {
         "name": "7125",
         "rawType": "int64",
         "type": "integer"
        },
        {
         "name": "7143",
         "rawType": "int64",
         "type": "integer"
        },
        {
         "name": "7170",
         "rawType": "int64",
         "type": "integer"
        },
        {
         "name": "7173",
         "rawType": "int64",
         "type": "integer"
        },
        {
         "name": "7178",
         "rawType": "int64",
         "type": "integer"
        },
        {
         "name": "7294",
         "rawType": "int64",
         "type": "integer"
        },
        {
         "name": "7311",
         "rawType": "int64",
         "type": "integer"
        },
        {
         "name": "7345",
         "rawType": "int64",
         "type": "integer"
        },
        {
         "name": "7405",
         "rawType": "int64",
         "type": "integer"
        },
        {
         "name": "7436",
         "rawType": "int64",
         "type": "integer"
        },
        {
         "name": "7480",
         "rawType": "int64",
         "type": "integer"
        },
        {
         "name": "7486",
         "rawType": "int64",
         "type": "integer"
        },
        {
         "name": "7527",
         "rawType": "int64",
         "type": "integer"
        },
        {
         "name": "7528",
         "rawType": "int64",
         "type": "integer"
        },
        {
         "name": "7539",
         "rawType": "int64",
         "type": "integer"
        },
        {
         "name": "7561",
         "rawType": "int64",
         "type": "integer"
        },
        {
         "name": "7603",
         "rawType": "int64",
         "type": "integer"
        },
        {
         "name": "7683",
         "rawType": "int64",
         "type": "integer"
        },
        {
         "name": "7684",
         "rawType": "int64",
         "type": "integer"
        },
        {
         "name": "7758",
         "rawType": "int64",
         "type": "integer"
        },
        {
         "name": "7827",
         "rawType": "int64",
         "type": "integer"
        },
        {
         "name": "7832",
         "rawType": "int64",
         "type": "integer"
        },
        {
         "name": "7859",
         "rawType": "int64",
         "type": "integer"
        },
        {
         "name": "7891",
         "rawType": "int64",
         "type": "integer"
        },
        {
         "name": "7962",
         "rawType": "int64",
         "type": "integer"
        },
        {
         "name": "7964",
         "rawType": "int64",
         "type": "integer"
        },
        {
         "name": "8043",
         "rawType": "int64",
         "type": "integer"
        },
        {
         "name": "8064",
         "rawType": "int64",
         "type": "integer"
        },
        {
         "name": "8072",
         "rawType": "int64",
         "type": "integer"
        },
        {
         "name": "8073",
         "rawType": "int64",
         "type": "integer"
        },
        {
         "name": "8115",
         "rawType": "int64",
         "type": "integer"
        },
        {
         "name": "8116",
         "rawType": "int64",
         "type": "integer"
        },
        {
         "name": "8122",
         "rawType": "int64",
         "type": "integer"
        },
        {
         "name": "8123",
         "rawType": "int64",
         "type": "integer"
        },
        {
         "name": "8124",
         "rawType": "int64",
         "type": "integer"
        },
        {
         "name": "8199",
         "rawType": "int64",
         "type": "integer"
        },
        {
         "name": "8243",
         "rawType": "int64",
         "type": "integer"
        },
        {
         "name": "8244",
         "rawType": "int64",
         "type": "integer"
        },
        {
         "name": "8246",
         "rawType": "int64",
         "type": "integer"
        },
        {
         "name": "8343",
         "rawType": "int64",
         "type": "integer"
        },
        {
         "name": "8345",
         "rawType": "int64",
         "type": "integer"
        },
        {
         "name": "8493",
         "rawType": "int64",
         "type": "integer"
        },
        {
         "name": "8615",
         "rawType": "int64",
         "type": "integer"
        },
        {
         "name": "8619",
         "rawType": "int64",
         "type": "integer"
        },
        {
         "name": "8712",
         "rawType": "int64",
         "type": "integer"
        },
        {
         "name": "8713",
         "rawType": "int64",
         "type": "integer"
        },
        {
         "name": "8773",
         "rawType": "int64",
         "type": "integer"
        },
        {
         "name": "8845",
         "rawType": "int64",
         "type": "integer"
        },
        {
         "name": "8920",
         "rawType": "int64",
         "type": "integer"
        },
        {
         "name": "8943",
         "rawType": "int64",
         "type": "integer"
        },
        {
         "name": "8955",
         "rawType": "int64",
         "type": "integer"
        },
        {
         "name": "9009",
         "rawType": "int64",
         "type": "integer"
        },
        {
         "name": "9071",
         "rawType": "int64",
         "type": "integer"
        },
        {
         "name": "9127",
         "rawType": "int64",
         "type": "integer"
        },
        {
         "name": "9178",
         "rawType": "int64",
         "type": "integer"
        },
        {
         "name": "9250",
         "rawType": "int64",
         "type": "integer"
        },
        {
         "name": "9292",
         "rawType": "int64",
         "type": "integer"
        },
        {
         "name": "9362",
         "rawType": "int64",
         "type": "integer"
        },
        {
         "name": "9430",
         "rawType": "int64",
         "type": "integer"
        },
        {
         "name": "9526",
         "rawType": "int64",
         "type": "integer"
        },
        {
         "name": "9571",
         "rawType": "int64",
         "type": "integer"
        },
        {
         "name": "9642",
         "rawType": "int64",
         "type": "integer"
        },
        {
         "name": "9707",
         "rawType": "int64",
         "type": "integer"
        },
        {
         "name": "9804",
         "rawType": "int64",
         "type": "integer"
        },
        {
         "name": "9834",
         "rawType": "int64",
         "type": "integer"
        },
        {
         "name": "9845",
         "rawType": "int64",
         "type": "integer"
        },
        {
         "name": "9867",
         "rawType": "int64",
         "type": "integer"
        },
        {
         "name": "9897",
         "rawType": "int64",
         "type": "integer"
        },
        {
         "name": "9900",
         "rawType": "int64",
         "type": "integer"
        },
        {
         "name": "9949",
         "rawType": "int64",
         "type": "integer"
        },
        {
         "name": "9968",
         "rawType": "int64",
         "type": "integer"
        },
        {
         "name": "10076",
         "rawType": "int64",
         "type": "integer"
        },
        {
         "name": "10134",
         "rawType": "int64",
         "type": "integer"
        },
        {
         "name": "10137",
         "rawType": "int64",
         "type": "integer"
        },
        {
         "name": "10145",
         "rawType": "int64",
         "type": "integer"
        },
        {
         "name": "10202",
         "rawType": "int64",
         "type": "integer"
        },
        {
         "name": "10245",
         "rawType": "int64",
         "type": "integer"
        },
        {
         "name": "10249",
         "rawType": "int64",
         "type": "integer"
        },
        {
         "name": "10298",
         "rawType": "int64",
         "type": "integer"
        },
        {
         "name": "10349",
         "rawType": "int64",
         "type": "integer"
        },
        {
         "name": "10492",
         "rawType": "int64",
         "type": "integer"
        },
        {
         "name": "10494",
         "rawType": "int64",
         "type": "integer"
        },
        {
         "name": "10563",
         "rawType": "int64",
         "type": "integer"
        },
        {
         "name": "10631",
         "rawType": "int64",
         "type": "integer"
        },
        {
         "name": "10656",
         "rawType": "int64",
         "type": "integer"
        },
        {
         "name": "10683",
         "rawType": "int64",
         "type": "integer"
        },
        {
         "name": "10686",
         "rawType": "int64",
         "type": "integer"
        },
        {
         "name": "10687",
         "rawType": "int64",
         "type": "integer"
        },
        {
         "name": "10688",
         "rawType": "int64",
         "type": "integer"
        },
        {
         "name": "10689",
         "rawType": "int64",
         "type": "integer"
        },
        {
         "name": "10777",
         "rawType": "int64",
         "type": "integer"
        },
        {
         "name": "10795",
         "rawType": "int64",
         "type": "integer"
        },
        {
         "name": "10857",
         "rawType": "int64",
         "type": "integer"
        },
        {
         "name": "10964",
         "rawType": "int64",
         "type": "integer"
        },
        {
         "name": "10969",
         "rawType": "int64",
         "type": "integer"
        },
        {
         "name": "11072",
         "rawType": "int64",
         "type": "integer"
        },
        {
         "name": "11073",
         "rawType": "int64",
         "type": "integer"
        },
        {
         "name": "11149",
         "rawType": "int64",
         "type": "integer"
        },
        {
         "name": "11184",
         "rawType": "int64",
         "type": "integer"
        },
        {
         "name": "11278",
         "rawType": "int64",
         "type": "integer"
        },
        {
         "name": "11314",
         "rawType": "int64",
         "type": "integer"
        },
        {
         "name": "11350",
         "rawType": "int64",
         "type": "integer"
        },
        {
         "name": "11425",
         "rawType": "int64",
         "type": "integer"
        },
        {
         "name": "11456",
         "rawType": "int64",
         "type": "integer"
        },
        {
         "name": "11471",
         "rawType": "int64",
         "type": "integer"
        },
        {
         "name": "11486",
         "rawType": "int64",
         "type": "integer"
        },
        {
         "name": "11541",
         "rawType": "int64",
         "type": "integer"
        },
        {
         "name": "11626",
         "rawType": "int64",
         "type": "integer"
        },
        {
         "name": "11628",
         "rawType": "int64",
         "type": "integer"
        },
        {
         "name": "11632",
         "rawType": "int64",
         "type": "integer"
        },
        {
         "name": "11640",
         "rawType": "int64",
         "type": "integer"
        },
        {
         "name": "11642",
         "rawType": "int64",
         "type": "integer"
        },
        {
         "name": "11647",
         "rawType": "int64",
         "type": "integer"
        },
        {
         "name": "11830",
         "rawType": "int64",
         "type": "integer"
        },
        {
         "name": "11837",
         "rawType": "int64",
         "type": "integer"
        },
        {
         "name": "11867",
         "rawType": "int64",
         "type": "integer"
        },
        {
         "name": "12046",
         "rawType": "int64",
         "type": "integer"
        },
        {
         "name": "12052",
         "rawType": "int64",
         "type": "integer"
        },
        {
         "name": "12175",
         "rawType": "int64",
         "type": "integer"
        },
        {
         "name": "12233",
         "rawType": "int64",
         "type": "integer"
        },
        {
         "name": "12239",
         "rawType": "int64",
         "type": "integer"
        },
        {
         "name": "12281",
         "rawType": "int64",
         "type": "integer"
        },
        {
         "name": "12305",
         "rawType": "int64",
         "type": "integer"
        },
        {
         "name": "12371",
         "rawType": "int64",
         "type": "integer"
        },
        {
         "name": "12404",
         "rawType": "int64",
         "type": "integer"
        },
        {
         "name": "12536",
         "rawType": "int64",
         "type": "integer"
        },
        {
         "name": "12540",
         "rawType": "int64",
         "type": "integer"
        },
        {
         "name": "12569",
         "rawType": "int64",
         "type": "integer"
        },
        {
         "name": "12577",
         "rawType": "int64",
         "type": "integer"
        },
        {
         "name": "12579",
         "rawType": "int64",
         "type": "integer"
        },
        {
         "name": "12589",
         "rawType": "int64",
         "type": "integer"
        },
        {
         "name": "12605",
         "rawType": "int64",
         "type": "integer"
        },
        {
         "name": "12662",
         "rawType": "int64",
         "type": "integer"
        },
        {
         "name": "12663",
         "rawType": "int64",
         "type": "integer"
        },
        {
         "name": "12665",
         "rawType": "int64",
         "type": "integer"
        },
        {
         "name": "12687",
         "rawType": "int64",
         "type": "integer"
        },
        {
         "name": "12770",
         "rawType": "int64",
         "type": "integer"
        },
        {
         "name": "12809",
         "rawType": "int64",
         "type": "integer"
        },
        {
         "name": "12824",
         "rawType": "int64",
         "type": "integer"
        },
        {
         "name": "12905",
         "rawType": "int64",
         "type": "integer"
        },
        {
         "name": "13289",
         "rawType": "int64",
         "type": "integer"
        },
        {
         "name": "13434",
         "rawType": "int64",
         "type": "integer"
        },
        {
         "name": "13522",
         "rawType": "int64",
         "type": "integer"
        },
        {
         "name": "13658",
         "rawType": "int64",
         "type": "integer"
        },
        {
         "name": "13661",
         "rawType": "int64",
         "type": "integer"
        },
        {
         "name": "13666",
         "rawType": "int64",
         "type": "integer"
        },
        {
         "name": "13697",
         "rawType": "int64",
         "type": "integer"
        },
        {
         "name": "13706",
         "rawType": "int64",
         "type": "integer"
        },
        {
         "name": "13707",
         "rawType": "int64",
         "type": "integer"
        },
        {
         "name": "13714",
         "rawType": "int64",
         "type": "integer"
        },
        {
         "name": "13728",
         "rawType": "int64",
         "type": "integer"
        },
        {
         "name": "13818",
         "rawType": "int64",
         "type": "integer"
        },
        {
         "name": "13853",
         "rawType": "int64",
         "type": "integer"
        },
        {
         "name": "13984",
         "rawType": "int64",
         "type": "integer"
        },
        {
         "name": "14105",
         "rawType": "int64",
         "type": "integer"
        },
        {
         "name": "14145",
         "rawType": "int64",
         "type": "integer"
        },
        {
         "name": "14167",
         "rawType": "int64",
         "type": "integer"
        },
        {
         "name": "14189",
         "rawType": "int64",
         "type": "integer"
        },
        {
         "name": "14218",
         "rawType": "int64",
         "type": "integer"
        },
        {
         "name": "14287",
         "rawType": "int64",
         "type": "integer"
        },
        {
         "name": "14329",
         "rawType": "int64",
         "type": "integer"
        },
        {
         "name": "14528",
         "rawType": "int64",
         "type": "integer"
        },
        {
         "name": "14614",
         "rawType": "int64",
         "type": "integer"
        },
        {
         "name": "14699",
         "rawType": "int64",
         "type": "integer"
        },
        {
         "name": "14834",
         "rawType": "int64",
         "type": "integer"
        },
        {
         "name": "14836",
         "rawType": "int64",
         "type": "integer"
        },
        {
         "name": "14873",
         "rawType": "int64",
         "type": "integer"
        },
        {
         "name": "14909",
         "rawType": "int64",
         "type": "integer"
        },
        {
         "name": "14934",
         "rawType": "int64",
         "type": "integer"
        },
        {
         "name": "15039",
         "rawType": "int64",
         "type": "integer"
        },
        {
         "name": "15044",
         "rawType": "int64",
         "type": "integer"
        },
        {
         "name": "15240",
         "rawType": "int64",
         "type": "integer"
        },
        {
         "name": "15255",
         "rawType": "int64",
         "type": "integer"
        },
        {
         "name": "15277",
         "rawType": "int64",
         "type": "integer"
        },
        {
         "name": "15371",
         "rawType": "int64",
         "type": "integer"
        },
        {
         "name": "15411",
         "rawType": "int64",
         "type": "integer"
        },
        {
         "name": "15463",
         "rawType": "int64",
         "type": "integer"
        },
        {
         "name": "15488",
         "rawType": "int64",
         "type": "integer"
        },
        {
         "name": "15586",
         "rawType": "int64",
         "type": "integer"
        },
        {
         "name": "15589",
         "rawType": "int64",
         "type": "integer"
        },
        {
         "name": "15619",
         "rawType": "int64",
         "type": "integer"
        },
        {
         "name": "15688",
         "rawType": "int64",
         "type": "integer"
        },
        {
         "name": "15844",
         "rawType": "int64",
         "type": "integer"
        },
        {
         "name": "15890",
         "rawType": "int64",
         "type": "integer"
        },
        {
         "name": "15987",
         "rawType": "int64",
         "type": "integer"
        },
        {
         "name": "16054",
         "rawType": "int64",
         "type": "integer"
        },
        {
         "name": "16070",
         "rawType": "int64",
         "type": "integer"
        },
        {
         "name": "16161",
         "rawType": "int64",
         "type": "integer"
        },
        {
         "name": "16304",
         "rawType": "int64",
         "type": "integer"
        },
        {
         "name": "16517",
         "rawType": "int64",
         "type": "integer"
        },
        {
         "name": "16611",
         "rawType": "int64",
         "type": "integer"
        },
        {
         "name": "16685",
         "rawType": "int64",
         "type": "integer"
        },
        {
         "name": "16917",
         "rawType": "int64",
         "type": "integer"
        },
        {
         "name": "17094",
         "rawType": "int64",
         "type": "integer"
        },
        {
         "name": "17144",
         "rawType": "int64",
         "type": "integer"
        },
        {
         "name": "17243",
         "rawType": "int64",
         "type": "integer"
        },
        {
         "name": "17305",
         "rawType": "int64",
         "type": "integer"
        },
        {
         "name": "17360",
         "rawType": "int64",
         "type": "integer"
        },
        {
         "name": "17485",
         "rawType": "int64",
         "type": "integer"
        },
        {
         "name": "17688",
         "rawType": "int64",
         "type": "integer"
        },
        {
         "name": "17702",
         "rawType": "int64",
         "type": "integer"
        },
        {
         "name": "17756",
         "rawType": "int64",
         "type": "integer"
        },
        {
         "name": "17780",
         "rawType": "int64",
         "type": "integer"
        },
        {
         "name": "17817",
         "rawType": "int64",
         "type": "integer"
        },
        {
         "name": "17876",
         "rawType": "int64",
         "type": "integer"
        },
        {
         "name": "18031",
         "rawType": "int64",
         "type": "integer"
        },
        {
         "name": "18129",
         "rawType": "int64",
         "type": "integer"
        },
        {
         "name": "18143",
         "rawType": "int64",
         "type": "integer"
        },
        {
         "name": "18181",
         "rawType": "int64",
         "type": "integer"
        },
        {
         "name": "18389",
         "rawType": "int64",
         "type": "integer"
        },
        {
         "name": "18672",
         "rawType": "int64",
         "type": "integer"
        },
        {
         "name": "19064",
         "rawType": "int64",
         "type": "integer"
        },
        {
         "name": "19487",
         "rawType": "int64",
         "type": "integer"
        },
        {
         "name": "19585",
         "rawType": "int64",
         "type": "integer"
        },
        {
         "name": "19672",
         "rawType": "int64",
         "type": "integer"
        },
        {
         "name": "20130",
         "rawType": "int64",
         "type": "integer"
        },
        {
         "name": "20144",
         "rawType": "int64",
         "type": "integer"
        },
        {
         "name": "20245",
         "rawType": "int64",
         "type": "integer"
        },
        {
         "name": "20261",
         "rawType": "int64",
         "type": "integer"
        },
        {
         "name": "20396",
         "rawType": "int64",
         "type": "integer"
        },
        {
         "name": "20397",
         "rawType": "int64",
         "type": "integer"
        },
        {
         "name": "20503",
         "rawType": "int64",
         "type": "integer"
        },
        {
         "name": "20631",
         "rawType": "int64",
         "type": "integer"
        },
        {
         "name": "20825",
         "rawType": "int64",
         "type": "integer"
        },
        {
         "name": "20873",
         "rawType": "int64",
         "type": "integer"
        },
        {
         "name": "20949",
         "rawType": "int64",
         "type": "integer"
        },
        {
         "name": "21017",
         "rawType": "int64",
         "type": "integer"
        },
        {
         "name": "21109",
         "rawType": "int64",
         "type": "integer"
        },
        {
         "name": "21147",
         "rawType": "int64",
         "type": "integer"
        },
        {
         "name": "21618",
         "rawType": "int64",
         "type": "integer"
        },
        {
         "name": "21829",
         "rawType": "int64",
         "type": "integer"
        },
        {
         "name": "21840",
         "rawType": "int64",
         "type": "integer"
        },
        {
         "name": "21856",
         "rawType": "int64",
         "type": "integer"
        },
        {
         "name": "21902",
         "rawType": "int64",
         "type": "integer"
        },
        {
         "name": "21967",
         "rawType": "int64",
         "type": "integer"
        },
        {
         "name": "22031",
         "rawType": "int64",
         "type": "integer"
        },
        {
         "name": "22343",
         "rawType": "int64",
         "type": "integer"
        },
        {
         "name": "22460",
         "rawType": "int64",
         "type": "integer"
        },
        {
         "name": "22640",
         "rawType": "int64",
         "type": "integer"
        },
        {
         "name": "22892",
         "rawType": "int64",
         "type": "integer"
        },
        {
         "name": "23003",
         "rawType": "int64",
         "type": "integer"
        },
        {
         "name": "23148",
         "rawType": "int64",
         "type": "integer"
        },
        {
         "name": "23215",
         "rawType": "int64",
         "type": "integer"
        },
        {
         "name": "23365",
         "rawType": "int64",
         "type": "integer"
        },
        {
         "name": "23530",
         "rawType": "int64",
         "type": "integer"
        },
        {
         "name": "23531",
         "rawType": "int64",
         "type": "integer"
        },
        {
         "name": "23532",
         "rawType": "int64",
         "type": "integer"
        },
        {
         "name": "23538",
         "rawType": "int64",
         "type": "integer"
        },
        {
         "name": "23731",
         "rawType": "int64",
         "type": "integer"
        },
        {
         "name": "24303",
         "rawType": "int64",
         "type": "integer"
        },
        {
         "name": "24476",
         "rawType": "int64",
         "type": "integer"
        },
        {
         "name": "24477",
         "rawType": "int64",
         "type": "integer"
        },
        {
         "name": "24583",
         "rawType": "int64",
         "type": "integer"
        },
        {
         "name": "24680",
         "rawType": "int64",
         "type": "integer"
        },
        {
         "name": "24794",
         "rawType": "int64",
         "type": "integer"
        },
        {
         "name": "24992",
         "rawType": "int64",
         "type": "integer"
        },
        {
         "name": "25068",
         "rawType": "int64",
         "type": "integer"
        },
        {
         "name": "25086",
         "rawType": "int64",
         "type": "integer"
        },
        {
         "name": "25200",
         "rawType": "int64",
         "type": "integer"
        },
        {
         "name": "25331",
         "rawType": "int64",
         "type": "integer"
        },
        {
         "name": "25452",
         "rawType": "int64",
         "type": "integer"
        },
        {
         "name": "25656",
         "rawType": "int64",
         "type": "integer"
        },
        {
         "name": "25876",
         "rawType": "int64",
         "type": "integer"
        },
        {
         "name": "26347",
         "rawType": "int64",
         "type": "integer"
        },
        {
         "name": "26829",
         "rawType": "int64",
         "type": "integer"
        },
        {
         "name": "27423",
         "rawType": "int64",
         "type": "integer"
        },
        {
         "name": "27928",
         "rawType": "int64",
         "type": "integer"
        },
        {
         "name": "28158",
         "rawType": "int64",
         "type": "integer"
        },
        {
         "name": "28434",
         "rawType": "int64",
         "type": "integer"
        },
        {
         "name": "28490",
         "rawType": "int64",
         "type": "integer"
        },
        {
         "name": "28491",
         "rawType": "int64",
         "type": "integer"
        },
        {
         "name": "28814",
         "rawType": "int64",
         "type": "integer"
        },
        {
         "name": "29112",
         "rawType": "int64",
         "type": "integer"
        },
        {
         "name": "29240",
         "rawType": "int64",
         "type": "integer"
        },
        {
         "name": "29549",
         "rawType": "int64",
         "type": "integer"
        },
        {
         "name": "29832",
         "rawType": "int64",
         "type": "integer"
        },
        {
         "name": "30425",
         "rawType": "int64",
         "type": "integer"
        },
        {
         "name": "30744",
         "rawType": "int64",
         "type": "integer"
        },
        {
         "name": "31755",
         "rawType": "int64",
         "type": "integer"
        },
        {
         "name": "32082",
         "rawType": "int64",
         "type": "integer"
        },
        {
         "name": "33159",
         "rawType": "int64",
         "type": "integer"
        },
        {
         "name": "33314",
         "rawType": "int64",
         "type": "integer"
        },
        {
         "name": "33615",
         "rawType": "int64",
         "type": "integer"
        },
        {
         "name": "33715",
         "rawType": "int64",
         "type": "integer"
        },
        {
         "name": "33726",
         "rawType": "int64",
         "type": "integer"
        },
        {
         "name": "33787",
         "rawType": "int64",
         "type": "integer"
        },
        {
         "name": "33791",
         "rawType": "int64",
         "type": "integer"
        },
        {
         "name": "33881",
         "rawType": "int64",
         "type": "integer"
        },
        {
         "name": "34023",
         "rawType": "int64",
         "type": "integer"
        },
        {
         "name": "34762",
         "rawType": "int64",
         "type": "integer"
        },
        {
         "name": "35023",
         "rawType": "int64",
         "type": "integer"
        },
        {
         "name": "35027",
         "rawType": "int64",
         "type": "integer"
        },
        {
         "name": "35411",
         "rawType": "int64",
         "type": "integer"
        },
        {
         "name": "35777",
         "rawType": "int64",
         "type": "integer"
        },
        {
         "name": "36047",
         "rawType": "int64",
         "type": "integer"
        },
        {
         "name": "37824",
         "rawType": "int64",
         "type": "integer"
        },
        {
         "name": "39026",
         "rawType": "int64",
         "type": "integer"
        },
        {
         "name": "39239",
         "rawType": "int64",
         "type": "integer"
        },
        {
         "name": "39794",
         "rawType": "int64",
         "type": "integer"
        },
        {
         "name": "40641",
         "rawType": "int64",
         "type": "integer"
        },
        {
         "name": "40873",
         "rawType": "int64",
         "type": "integer"
        },
        {
         "name": "41194",
         "rawType": "int64",
         "type": "integer"
        },
        {
         "name": "41416",
         "rawType": "int64",
         "type": "integer"
        },
        {
         "name": "41462",
         "rawType": "int64",
         "type": "integer"
        },
        {
         "name": "41506",
         "rawType": "int64",
         "type": "integer"
        },
        {
         "name": "41842",
         "rawType": "int64",
         "type": "integer"
        },
        {
         "name": "41992",
         "rawType": "int64",
         "type": "integer"
        },
        {
         "name": "43235",
         "rawType": "int64",
         "type": "integer"
        },
        {
         "name": "43721",
         "rawType": "int64",
         "type": "integer"
        },
        {
         "name": "45255",
         "rawType": "int64",
         "type": "integer"
        },
        {
         "name": "45745",
         "rawType": "int64",
         "type": "integer"
        },
        {
         "name": "46032",
         "rawType": "int64",
         "type": "integer"
        },
        {
         "name": "46285",
         "rawType": "int64",
         "type": "integer"
        },
        {
         "name": "47444",
         "rawType": "int64",
         "type": "integer"
        },
        {
         "name": "50190",
         "rawType": "int64",
         "type": "integer"
        },
        {
         "name": "51388",
         "rawType": "int64",
         "type": "integer"
        },
        {
         "name": "51568",
         "rawType": "int64",
         "type": "integer"
        },
        {
         "name": "52336",
         "rawType": "int64",
         "type": "integer"
        },
        {
         "name": "53532",
         "rawType": "int64",
         "type": "integer"
        },
        {
         "name": "54627",
         "rawType": "int64",
         "type": "integer"
        },
        {
         "name": "55129",
         "rawType": "int64",
         "type": "integer"
        },
        {
         "name": "55426",
         "rawType": "int64",
         "type": "integer"
        },
        {
         "name": "56673",
         "rawType": "int64",
         "type": "integer"
        },
        {
         "name": "56844",
         "rawType": "int64",
         "type": "integer"
        },
        {
         "name": "59568",
         "rawType": "int64",
         "type": "integer"
        },
        {
         "name": "59750",
         "rawType": "int64",
         "type": "integer"
        },
        {
         "name": "60070",
         "rawType": "int64",
         "type": "integer"
        },
        {
         "name": "60200",
         "rawType": "int64",
         "type": "integer"
        },
        {
         "name": "61342",
         "rawType": "int64",
         "type": "integer"
        },
        {
         "name": "61370",
         "rawType": "int64",
         "type": "integer"
        },
        {
         "name": "61439",
         "rawType": "int64",
         "type": "integer"
        },
        {
         "name": "61464",
         "rawType": "int64",
         "type": "integer"
        },
        {
         "name": "61547",
         "rawType": "int64",
         "type": "integer"
        },
        {
         "name": "61558",
         "rawType": "int64",
         "type": "integer"
        },
        {
         "name": "61572",
         "rawType": "int64",
         "type": "integer"
        },
        {
         "name": "61579",
         "rawType": "int64",
         "type": "integer"
        },
        {
         "name": "61580",
         "rawType": "int64",
         "type": "integer"
        },
        {
         "name": "61637",
         "rawType": "int64",
         "type": "integer"
        },
        {
         "name": "61693",
         "rawType": "int64",
         "type": "integer"
        },
        {
         "name": "61761",
         "rawType": "int64",
         "type": "integer"
        },
        {
         "name": "62328",
         "rawType": "int64",
         "type": "integer"
        },
        {
         "name": "62698",
         "rawType": "int64",
         "type": "integer"
        },
        {
         "name": "62817",
         "rawType": "int64",
         "type": "integer"
        },
        {
         "name": "62970",
         "rawType": "int64",
         "type": "integer"
        },
        {
         "name": "63209",
         "rawType": "int64",
         "type": "integer"
        },
        {
         "name": "63581",
         "rawType": "int64",
         "type": "integer"
        },
        {
         "name": "64098",
         "rawType": "int64",
         "type": "integer"
        },
        {
         "name": "64100",
         "rawType": "int64",
         "type": "integer"
        },
        {
         "name": "64210",
         "rawType": "int64",
         "type": "integer"
        },
        {
         "name": "64227",
         "rawType": "int64",
         "type": "integer"
        },
        {
         "name": "64500",
         "rawType": "int64",
         "type": "integer"
        },
        {
         "name": "64501",
         "rawType": "int64",
         "type": "integer"
        },
        {
         "name": "64533",
         "rawType": "int64",
         "type": "integer"
        },
        {
         "name": "64613",
         "rawType": "int64",
         "type": "integer"
        },
        {
         "name": "64806",
         "rawType": "int64",
         "type": "integer"
        },
        {
         "name": "64822",
         "rawType": "int64",
         "type": "integer"
        },
        {
         "name": "65174",
         "rawType": "int64",
         "type": "integer"
        },
        {
         "name": "65423",
         "rawType": "int64",
         "type": "integer"
        },
        {
         "name": "65921",
         "rawType": "int64",
         "type": "integer"
        },
        {
         "name": "66061",
         "rawType": "int64",
         "type": "integer"
        },
        {
         "name": "66065",
         "rawType": "int64",
         "type": "integer"
        },
        {
         "name": "68137",
         "rawType": "int64",
         "type": "integer"
        },
        {
         "name": "72332",
         "rawType": "int64",
         "type": "integer"
        }
       ],
       "conversionMethod": "pd.DataFrame",
       "ref": "e3839d81-db16-43ce-a912-0c2034760a64",
       "rows": [
        [
         "1232",
         "0",
         "0",
         "0",
         "0",
         "0",
         "0",
         "0",
         "0",
         "0",
         "0",
         "0",
         "0",
         "0",
         "0",
         "0",
         "0",
         "0",
         "0",
         "0",
         "0",
         "0",
         "0",
         "0",
         "0",
         "0",
         "0",
         "0",
         "0",
         "0",
         "0",
         "0",
         "0",
         "0",
         "0",
         "0",
         "0",
         "0",
         "1",
         "0",
         "0",
         "0",
         "0",
         "0",
         "0",
         "0",
         "0",
         "0",
         "0",
         "0",
         "0",
         "1",
         "0",
         "0",
         "0",
         "0",
         "0",
         "0",
         "0",
         "0",
         "0",
         "0",
         "0",
         "0",
         "0",
         "0",
         "0",
         "0",
         "0",
         "0",
         "0",
         "0",
         "0",
         "0",
         "0",
         "0",
         "0",
         "0",
         "0",
         "0",
         "0",
         "1",
         "0",
         "0",
         "0",
         "0",
         "0",
         "0",
         "0",
         "0",
         "0",
         "0",
         "0",
         "0",
         "0",
         "0",
         "0",
         "0",
         "0",
         "0",
         "0",
         "0",
         "0",
         "0",
         "0",
         "0",
         "0",
         "0",
         "0",
         "0",
         "0",
         "0",
         "0",
         "0",
         "0",
         "1",
         "0",
         "0",
         "0",
         "0",
         "0",
         "0",
         "0",
         "0",
         "0",
         "0",
         "0",
         "0",
         "0",
         "0",
         "0",
         "0",
         "0",
         "0",
         "0",
         "0",
         "0",
         "0",
         "0",
         "0",
         "0",
         "0",
         "0",
         "0",
         "0",
         "0",
         "0",
         "1",
         "0",
         "0",
         "0",
         "0",
         "0",
         "0",
         "0",
         "0",
         "0",
         "0",
         "0",
         "0",
         "0",
         "0",
         "0",
         "0",
         "0",
         "0",
         "0",
         "0",
         "0",
         "0",
         "0",
         "0",
         "0",
         "0",
         "0",
         "0",
         "0",
         "0",
         "0",
         "0",
         "0",
         "0",
         "0",
         "0",
         "0",
         "0",
         "0",
         "0",
         "0",
         "0",
         "0",
         "0",
         "0",
         "0",
         "0",
         "0",
         "0",
         "0",
         "0",
         "0",
         "0",
         "0",
         "0",
         "0",
         "0",
         "0",
         "0",
         "0",
         "0",
         "0",
         "0",
         "0",
         "0",
         "0",
         "0",
         "0",
         "0",
         "0",
         "0",
         "0",
         "0",
         "0",
         "0",
         "0",
         "0",
         "0",
         "0",
         "0",
         "0",
         "0",
         "0",
         "0",
         "1",
         "0",
         "0",
         "0",
         "0",
         "0",
         "0",
         "0",
         "0",
         "0",
         "0",
         "0",
         "0",
         "0",
         "0",
         "0",
         "0",
         "0",
         "0",
         "0",
         "0",
         "0",
         "0",
         "0",
         "0",
         "0",
         "0",
         "0",
         "0",
         "0",
         "0",
         "0",
         "0",
         "0",
         "0",
         "0",
         "0",
         "0",
         "0",
         "0",
         "0",
         "0",
         "0",
         "0",
         "0",
         "0",
         "0",
         "0",
         "0",
         "0",
         "0",
         "0",
         "0",
         "0",
         "0",
         "0",
         "0",
         "0",
         "0",
         "0",
         "0",
         "0",
         "0",
         "0",
         "0",
         "0",
         "0",
         "0",
         "0",
         "0",
         "0",
         "0",
         "0",
         "0",
         "0",
         "0",
         "0",
         "0",
         "0",
         "0",
         "0",
         "0",
         "0",
         "0",
         "0",
         "1",
         "0",
         "0",
         "0",
         "0",
         "0",
         "0",
         "0",
         "0",
         "0",
         "0",
         "0",
         "0",
         "0",
         "0",
         "0",
         "0",
         "0",
         "0",
         "0",
         "0",
         "0",
         "1",
         "0",
         "0",
         "0",
         "0",
         "0",
         "0",
         "0",
         "0",
         "0",
         "0",
         "0",
         "0",
         "0",
         "0",
         "0",
         "0",
         "0",
         "0",
         "0",
         "0",
         "0",
         "0",
         "0",
         "0",
         "0",
         "0",
         "0",
         "0",
         "0",
         "0",
         "0",
         "0",
         "0",
         "0",
         "0",
         "0",
         "0",
         "0",
         "0",
         "0",
         "0",
         "0",
         "0",
         "0",
         "0",
         "0",
         "0",
         "0",
         "0",
         "0",
         "0",
         "0",
         "0",
         "0",
         "0",
         "0",
         "0",
         "0",
         "0",
         "0",
         "0",
         "0",
         "0",
         "0",
         "0",
         "0",
         "0",
         "0",
         "0",
         "0",
         "0",
         "0",
         "0",
         "0",
         "0",
         "0",
         "0",
         "0",
         "0",
         "0",
         "0",
         "0",
         "0",
         "0",
         "0",
         "0",
         "0",
         "0",
         "0",
         "0",
         "0",
         "0",
         "0",
         "0",
         "0",
         "0",
         "0",
         "0",
         "0",
         "0",
         "0",
         "0",
         "0",
         "0",
         "0",
         "0",
         "0",
         "0",
         "0",
         "0",
         "0",
         "0",
         "0",
         "0",
         "0",
         "0",
         "0",
         "0",
         "0",
         "0",
         "0",
         "0",
         "0",
         "0",
         "0",
         "0",
         "0",
         "0",
         "0",
         "0",
         "0",
         "0",
         "0",
         "0",
         "0",
         "0",
         "0",
         "0",
         "0",
         "0",
         "0",
         "0",
         "0",
         "0",
         "0",
         "0",
         "0",
         "0",
         "0",
         "0",
         "0",
         "0",
         "0",
         "0",
         "0",
         "0",
         "0",
         "0",
         "0",
         "0",
         "0",
         "0",
         "0",
         "0",
         "0",
         "0",
         "0",
         "0",
         "0",
         "0",
         "0",
         "0",
         "0",
         "0",
         "0",
         "0",
         "0",
         "0",
         "0",
         "0",
         "0",
         "0",
         "0",
         "0",
         "0",
         "0",
         "0",
         "0",
         "0",
         "0",
         "0",
         "0",
         "0",
         "0",
         "0",
         "0",
         "0",
         "0",
         "0",
         "0",
         "0",
         "0",
         "0",
         "0",
         "0",
         "0",
         "0",
         "0",
         "0",
         "0",
         "0",
         "0",
         "0",
         "0",
         "0",
         "0",
         "0",
         "0",
         "0",
         "0",
         "0",
         "0",
         "0",
         "0",
         "0",
         "0",
         "0",
         "0",
         "0",
         "0",
         "0",
         "0",
         "0",
         "0",
         "0",
         "0",
         "0",
         "0",
         "0",
         "0",
         "0",
         "1",
         "0",
         "0",
         "0",
         "0",
         "0",
         "0",
         "0",
         "0",
         "1",
         "0",
         "0",
         "0",
         "0",
         "0",
         "0",
         "0",
         "0",
         "0",
         "0",
         "0",
         "0",
         "0",
         "0",
         "0",
         "0",
         "0",
         "0",
         "0",
         "0",
         "0",
         "0",
         "0",
         "0",
         "0",
         "0",
         "0",
         "0",
         "0",
         "0",
         "0",
         "0",
         "0",
         "0",
         "0",
         "0",
         "0",
         "0",
         "0",
         "0",
         "0",
         "0",
         "0",
         "0",
         "0",
         "0",
         "0",
         "0",
         "0",
         "0",
         "1",
         "0",
         "0",
         "0",
         "0",
         "0",
         "0"
        ],
        [
         "1234",
         "0",
         "0",
         "0",
         "0",
         "0",
         "0",
         "0",
         "0",
         "0",
         "0",
         "0",
         "0",
         "0",
         "0",
         "0",
         "0",
         "0",
         "0",
         "0",
         "0",
         "0",
         "0",
         "0",
         "0",
         "0",
         "0",
         "0",
         "0",
         "0",
         "0",
         "0",
         "0",
         "0",
         "0",
         "0",
         "0",
         "0",
         "1",
         "0",
         "0",
         "0",
         "0",
         "0",
         "0",
         "0",
         "0",
         "0",
         "0",
         "0",
         "0",
         "0",
         "0",
         "0",
         "0",
         "0",
         "0",
         "0",
         "1",
         "0",
         "0",
         "0",
         "0",
         "0",
         "0",
         "0",
         "0",
         "0",
         "0",
         "0",
         "0",
         "0",
         "0",
         "0",
         "0",
         "0",
         "0",
         "1",
         "0",
         "0",
         "0",
         "0",
         "0",
         "0",
         "0",
         "0",
         "0",
         "0",
         "0",
         "0",
         "0",
         "0",
         "0",
         "0",
         "0",
         "0",
         "0",
         "0",
         "0",
         "0",
         "0",
         "0",
         "0",
         "0",
         "0",
         "0",
         "0",
         "0",
         "0",
         "0",
         "0",
         "0",
         "0",
         "0",
         "0",
         "0",
         "0",
         "0",
         "0",
         "0",
         "0",
         "0",
         "0",
         "0",
         "0",
         "0",
         "0",
         "0",
         "0",
         "0",
         "0",
         "0",
         "0",
         "0",
         "0",
         "0",
         "1",
         "0",
         "0",
         "1",
         "0",
         "0",
         "0",
         "0",
         "0",
         "0",
         "0",
         "0",
         "0",
         "0",
         "0",
         "0",
         "0",
         "0",
         "0",
         "0",
         "0",
         "0",
         "0",
         "0",
         "0",
         "1",
         "0",
         "0",
         "0",
         "0",
         "0",
         "0",
         "0",
         "0",
         "0",
         "0",
         "0",
         "0",
         "0",
         "0",
         "0",
         "0",
         "0",
         "0",
         "0",
         "0",
         "0",
         "0",
         "0",
         "0",
         "0",
         "0",
         "0",
         "0",
         "0",
         "0",
         "0",
         "0",
         "0",
         "0",
         "0",
         "0",
         "0",
         "0",
         "0",
         "0",
         "0",
         "0",
         "0",
         "0",
         "0",
         "0",
         "0",
         "0",
         "0",
         "0",
         "0",
         "0",
         "0",
         "0",
         "0",
         "0",
         "0",
         "0",
         "0",
         "0",
         "0",
         "0",
         "0",
         "0",
         "0",
         "0",
         "0",
         "0",
         "0",
         "0",
         "0",
         "0",
         "0",
         "0",
         "0",
         "0",
         "0",
         "0",
         "0",
         "1",
         "0",
         "0",
         "0",
         "0",
         "0",
         "0",
         "0",
         "0",
         "0",
         "0",
         "0",
         "0",
         "0",
         "0",
         "1",
         "0",
         "0",
         "0",
         "0",
         "0",
         "0",
         "0",
         "0",
         "0",
         "0",
         "0",
         "0",
         "0",
         "0",
         "0",
         "0",
         "0",
         "0",
         "0",
         "0",
         "0",
         "0",
         "0",
         "0",
         "0",
         "0",
         "0",
         "0",
         "0",
         "0",
         "0",
         "0",
         "0",
         "0",
         "0",
         "0",
         "0",
         "0",
         "0",
         "0",
         "0",
         "0",
         "0",
         "0",
         "0",
         "0",
         "0",
         "0",
         "0",
         "0",
         "0",
         "0",
         "0",
         "0",
         "0",
         "0",
         "0",
         "0",
         "0",
         "0",
         "0",
         "0",
         "0",
         "0",
         "0",
         "0",
         "0",
         "0",
         "0",
         "0",
         "0",
         "0",
         "0",
         "0",
         "0",
         "0",
         "0",
         "0",
         "0",
         "0",
         "0",
         "0",
         "1",
         "0",
         "0",
         "0",
         "0",
         "0",
         "0",
         "0",
         "0",
         "0",
         "0",
         "0",
         "0",
         "0",
         "0",
         "0",
         "0",
         "0",
         "0",
         "0",
         "0",
         "0",
         "0",
         "0",
         "0",
         "0",
         "0",
         "0",
         "0",
         "0",
         "0",
         "0",
         "0",
         "0",
         "0",
         "0",
         "0",
         "0",
         "0",
         "0",
         "0",
         "0",
         "0",
         "0",
         "0",
         "0",
         "0",
         "0",
         "0",
         "0",
         "0",
         "0",
         "0",
         "0",
         "0",
         "0",
         "0",
         "0",
         "0",
         "0",
         "0",
         "0",
         "0",
         "0",
         "0",
         "0",
         "0",
         "0",
         "0",
         "0",
         "0",
         "0",
         "0",
         "0",
         "1",
         "0",
         "0",
         "0",
         "0",
         "0",
         "0",
         "0",
         "0",
         "0",
         "0",
         "0",
         "0",
         "0",
         "0",
         "0",
         "0",
         "0",
         "0",
         "0",
         "0",
         "0",
         "0",
         "0",
         "0",
         "0",
         "0",
         "0",
         "0",
         "0",
         "0",
         "0",
         "0",
         "0",
         "0",
         "0",
         "0",
         "0",
         "0",
         "0",
         "0",
         "0",
         "0",
         "0",
         "0",
         "0",
         "0",
         "0",
         "0",
         "0",
         "0",
         "0",
         "0",
         "0",
         "0",
         "0",
         "0",
         "0",
         "0",
         "0",
         "0",
         "0",
         "0",
         "0",
         "0",
         "0",
         "0",
         "0",
         "0",
         "0",
         "0",
         "0",
         "0",
         "0",
         "0",
         "0",
         "0",
         "0",
         "0",
         "0",
         "0",
         "0",
         "0",
         "0",
         "0",
         "0",
         "0",
         "0",
         "0",
         "0",
         "0",
         "0",
         "0",
         "0",
         "0",
         "0",
         "1",
         "0",
         "0",
         "0",
         "0",
         "0",
         "0",
         "0",
         "0",
         "0",
         "0",
         "0",
         "0",
         "0",
         "0",
         "0",
         "0",
         "0",
         "0",
         "0",
         "0",
         "0",
         "0",
         "0",
         "0",
         "0",
         "0",
         "0",
         "0",
         "0",
         "0",
         "0",
         "0",
         "0",
         "0",
         "0",
         "0",
         "0",
         "1",
         "0",
         "0",
         "0",
         "0",
         "0",
         "0",
         "0",
         "0",
         "0",
         "0",
         "0",
         "0",
         "0",
         "0",
         "0",
         "0",
         "0",
         "0",
         "0",
         "0",
         "0",
         "0",
         "0",
         "0",
         "0",
         "0",
         "0",
         "0",
         "0",
         "0",
         "0",
         "0",
         "0",
         "0",
         "0",
         "0",
         "0",
         "0",
         "0",
         "0",
         "0",
         "0",
         "0",
         "0",
         "0",
         "0",
         "0",
         "0",
         "0",
         "0",
         "0",
         "0",
         "1",
         "0",
         "0",
         "0",
         "0",
         "0",
         "0",
         "0",
         "0",
         "0",
         "0",
         "0",
         "0",
         "0",
         "0",
         "0",
         "0",
         "0",
         "0",
         "0",
         "0",
         "0",
         "0",
         "0",
         "0",
         "0",
         "0",
         "0",
         "0",
         "0",
         "0",
         "0",
         "0",
         "0",
         "1",
         "0",
         "0",
         "0",
         "0",
         "0",
         "0",
         "0",
         "0",
         "0",
         "0",
         "0",
         "0",
         "0"
        ],
        [
         "1254",
         "0",
         "0",
         "0",
         "0",
         "0",
         "0",
         "0",
         "0",
         "0",
         "0",
         "0",
         "0",
         "0",
         "0",
         "0",
         "0",
         "0",
         "0",
         "0",
         "0",
         "0",
         "0",
         "0",
         "0",
         "0",
         "0",
         "0",
         "0",
         "0",
         "0",
         "0",
         "0",
         "0",
         "0",
         "0",
         "0",
         "0",
         "0",
         "0",
         "0",
         "0",
         "0",
         "0",
         "0",
         "0",
         "0",
         "0",
         "0",
         "0",
         "0",
         "0",
         "1",
         "0",
         "1",
         "0",
         "0",
         "0",
         "1",
         "0",
         "0",
         "0",
         "0",
         "0",
         "0",
         "0",
         "0",
         "0",
         "0",
         "0",
         "1",
         "0",
         "0",
         "0",
         "0",
         "0",
         "0",
         "0",
         "0",
         "0",
         "0",
         "0",
         "1",
         "0",
         "0",
         "0",
         "0",
         "0",
         "0",
         "1",
         "1",
         "0",
         "0",
         "0",
         "1",
         "0",
         "0",
         "0",
         "0",
         "0",
         "0",
         "0",
         "1",
         "1",
         "0",
         "0",
         "0",
         "0",
         "0",
         "0",
         "0",
         "0",
         "0",
         "0",
         "0",
         "1",
         "0",
         "0",
         "0",
         "0",
         "0",
         "0",
         "0",
         "0",
         "0",
         "0",
         "0",
         "0",
         "0",
         "0",
         "0",
         "0",
         "1",
         "0",
         "0",
         "0",
         "0",
         "0",
         "0",
         "0",
         "0",
         "0",
         "0",
         "0",
         "0",
         "0",
         "0",
         "0",
         "0",
         "0",
         "0",
         "0",
         "0",
         "0",
         "0",
         "0",
         "0",
         "0",
         "0",
         "0",
         "0",
         "0",
         "0",
         "0",
         "0",
         "0",
         "0",
         "0",
         "0",
         "0",
         "0",
         "0",
         "0",
         "0",
         "0",
         "0",
         "0",
         "0",
         "0",
         "0",
         "0",
         "0",
         "0",
         "0",
         "0",
         "0",
         "0",
         "0",
         "0",
         "0",
         "0",
         "0",
         "0",
         "0",
         "0",
         "0",
         "1",
         "0",
         "0",
         "0",
         "0",
         "0",
         "1",
         "1",
         "0",
         "0",
         "0",
         "0",
         "0",
         "0",
         "0",
         "0",
         "0",
         "0",
         "0",
         "0",
         "0",
         "0",
         "0",
         "0",
         "0",
         "0",
         "0",
         "0",
         "0",
         "0",
         "0",
         "0",
         "1",
         "0",
         "0",
         "0",
         "1",
         "0",
         "0",
         "0",
         "0",
         "0",
         "0",
         "0",
         "0",
         "1",
         "0",
         "0",
         "0",
         "0",
         "0",
         "0",
         "0",
         "0",
         "0",
         "0",
         "0",
         "0",
         "0",
         "0",
         "0",
         "0",
         "0",
         "0",
         "0",
         "0",
         "0",
         "1",
         "0",
         "0",
         "0",
         "0",
         "0",
         "0",
         "0",
         "0",
         "0",
         "0",
         "0",
         "0",
         "0",
         "0",
         "0",
         "0",
         "0",
         "0",
         "0",
         "0",
         "0",
         "0",
         "0",
         "0",
         "0",
         "0",
         "0",
         "0",
         "0",
         "0",
         "0",
         "0",
         "0",
         "0",
         "0",
         "0",
         "0",
         "0",
         "0",
         "0",
         "0",
         "1",
         "1",
         "0",
         "0",
         "0",
         "0",
         "0",
         "0",
         "0",
         "0",
         "0",
         "0",
         "0",
         "0",
         "0",
         "0",
         "0",
         "0",
         "0",
         "0",
         "0",
         "0",
         "0",
         "0",
         "0",
         "0",
         "0",
         "0",
         "0",
         "0",
         "0",
         "0",
         "0",
         "0",
         "0",
         "1",
         "1",
         "0",
         "0",
         "0",
         "1",
         "0",
         "0",
         "0",
         "0",
         "0",
         "0",
         "0",
         "0",
         "0",
         "0",
         "0",
         "1",
         "0",
         "0",
         "0",
         "1",
         "0",
         "0",
         "0",
         "0",
         "0",
         "0",
         "0",
         "0",
         "0",
         "0",
         "0",
         "0",
         "0",
         "1",
         "0",
         "0",
         "0",
         "0",
         "0",
         "0",
         "0",
         "0",
         "0",
         "0",
         "0",
         "1",
         "0",
         "0",
         "0",
         "0",
         "0",
         "0",
         "0",
         "0",
         "0",
         "0",
         "0",
         "0",
         "0",
         "0",
         "0",
         "0",
         "0",
         "0",
         "1",
         "0",
         "0",
         "0",
         "0",
         "0",
         "0",
         "0",
         "0",
         "0",
         "0",
         "0",
         "0",
         "0",
         "1",
         "0",
         "0",
         "0",
         "0",
         "0",
         "0",
         "0",
         "0",
         "0",
         "0",
         "1",
         "0",
         "0",
         "0",
         "0",
         "0",
         "0",
         "0",
         "0",
         "0",
         "0",
         "0",
         "0",
         "0",
         "0",
         "1",
         "0",
         "0",
         "0",
         "0",
         "0",
         "0",
         "0",
         "0",
         "0",
         "0",
         "0",
         "0",
         "0",
         "0",
         "0",
         "0",
         "0",
         "0",
         "0",
         "0",
         "0",
         "0",
         "0",
         "0",
         "0",
         "0",
         "0",
         "0",
         "0",
         "0",
         "0",
         "0",
         "0",
         "1",
         "1",
         "0",
         "0",
         "0",
         "0",
         "0",
         "0",
         "0",
         "1",
         "0",
         "0",
         "0",
         "0",
         "0",
         "0",
         "0",
         "0",
         "0",
         "0",
         "0",
         "0",
         "0",
         "0",
         "0",
         "0",
         "0",
         "0",
         "0",
         "0",
         "0",
         "0",
         "0",
         "0",
         "0",
         "0",
         "0",
         "0",
         "0",
         "0",
         "0",
         "0",
         "0",
         "0",
         "0",
         "0",
         "1",
         "0",
         "0",
         "0",
         "0",
         "0",
         "0",
         "0",
         "0",
         "0",
         "0",
         "1",
         "1",
         "0",
         "0",
         "0",
         "0",
         "0",
         "0",
         "0",
         "0",
         "0",
         "0",
         "0",
         "0",
         "0",
         "0",
         "0",
         "0",
         "0",
         "0",
         "0",
         "0",
         "0",
         "1",
         "0",
         "0",
         "0",
         "0",
         "0",
         "0",
         "0",
         "0",
         "0",
         "0",
         "0",
         "0",
         "0",
         "0",
         "0",
         "0",
         "0",
         "0",
         "0",
         "0",
         "0",
         "0",
         "0",
         "0",
         "0",
         "0",
         "0",
         "1",
         "0",
         "0",
         "0",
         "0",
         "0",
         "1",
         "0",
         "0",
         "0",
         "0",
         "1",
         "0",
         "0",
         "0",
         "0",
         "0",
         "0",
         "1",
         "0",
         "1",
         "0",
         "0",
         "1",
         "0",
         "0",
         "0",
         "0",
         "0",
         "0",
         "0",
         "0",
         "0",
         "0",
         "0",
         "0",
         "0",
         "0",
         "0",
         "0",
         "0",
         "0",
         "0",
         "0",
         "0",
         "0",
         "0",
         "0",
         "0",
         "0",
         "0",
         "0",
         "0",
         "0",
         "0",
         "0",
         "0",
         "0",
         "0",
         "0"
        ],
        [
         "1257",
         "0",
         "1",
         "0",
         "0",
         "0",
         "0",
         "0",
         "0",
         "0",
         "0",
         "0",
         "0",
         "0",
         "0",
         "0",
         "0",
         "0",
         "0",
         "0",
         "0",
         "1",
         "0",
         "0",
         "0",
         "0",
         "0",
         "1",
         "1",
         "0",
         "0",
         "0",
         "0",
         "0",
         "0",
         "0",
         "0",
         "0",
         "0",
         "0",
         "0",
         "0",
         "0",
         "0",
         "0",
         "0",
         "0",
         "0",
         "0",
         "0",
         "0",
         "1",
         "0",
         "1",
         "0",
         "0",
         "0",
         "0",
         "0",
         "0",
         "1",
         "0",
         "0",
         "0",
         "0",
         "0",
         "0",
         "0",
         "0",
         "0",
         "1",
         "1",
         "0",
         "0",
         "0",
         "0",
         "0",
         "0",
         "1",
         "0",
         "0",
         "1",
         "0",
         "1",
         "0",
         "0",
         "0",
         "0",
         "0",
         "0",
         "0",
         "1",
         "0",
         "0",
         "0",
         "0",
         "0",
         "0",
         "0",
         "0",
         "0",
         "0",
         "0",
         "0",
         "0",
         "0",
         "0",
         "0",
         "0",
         "0",
         "0",
         "0",
         "0",
         "0",
         "0",
         "0",
         "0",
         "0",
         "0",
         "0",
         "0",
         "0",
         "0",
         "0",
         "0",
         "0",
         "1",
         "0",
         "0",
         "0",
         "0",
         "0",
         "0",
         "0",
         "0",
         "0",
         "0",
         "0",
         "1",
         "0",
         "0",
         "0",
         "0",
         "0",
         "0",
         "0",
         "0",
         "0",
         "0",
         "0",
         "0",
         "0",
         "1",
         "1",
         "0",
         "0",
         "0",
         "0",
         "0",
         "0",
         "0",
         "0",
         "0",
         "0",
         "0",
         "0",
         "0",
         "0",
         "0",
         "0",
         "0",
         "0",
         "0",
         "0",
         "0",
         "0",
         "0",
         "0",
         "0",
         "0",
         "0",
         "0",
         "0",
         "0",
         "0",
         "0",
         "0",
         "0",
         "0",
         "0",
         "0",
         "1",
         "0",
         "1",
         "0",
         "0",
         "0",
         "0",
         "0",
         "0",
         "1",
         "0",
         "0",
         "0",
         "0",
         "0",
         "0",
         "0",
         "0",
         "0",
         "0",
         "1",
         "0",
         "0",
         "0",
         "0",
         "0",
         "0",
         "0",
         "0",
         "0",
         "0",
         "0",
         "0",
         "0",
         "0",
         "0",
         "1",
         "0",
         "0",
         "1",
         "1",
         "0",
         "0",
         "0",
         "0",
         "0",
         "0",
         "0",
         "0",
         "0",
         "0",
         "0",
         "0",
         "0",
         "0",
         "0",
         "0",
         "0",
         "0",
         "0",
         "0",
         "0",
         "0",
         "1",
         "0",
         "0",
         "0",
         "1",
         "0",
         "0",
         "0",
         "1",
         "0",
         "0",
         "0",
         "0",
         "0",
         "0",
         "0",
         "0",
         "0",
         "0",
         "0",
         "0",
         "0",
         "0",
         "0",
         "0",
         "1",
         "0",
         "0",
         "0",
         "0",
         "0",
         "0",
         "0",
         "0",
         "0",
         "0",
         "0",
         "1",
         "0",
         "0",
         "0",
         "0",
         "0",
         "0",
         "0",
         "0",
         "0",
         "0",
         "0",
         "0",
         "0",
         "0",
         "0",
         "0",
         "0",
         "0",
         "0",
         "0",
         "0",
         "0",
         "0",
         "0",
         "1",
         "0",
         "0",
         "0",
         "0",
         "1",
         "0",
         "0",
         "1",
         "0",
         "0",
         "0",
         "0",
         "0",
         "0",
         "0",
         "0",
         "0",
         "0",
         "0",
         "0",
         "0",
         "0",
         "0",
         "0",
         "0",
         "0",
         "0",
         "1",
         "0",
         "0",
         "0",
         "0",
         "0",
         "0",
         "0",
         "0",
         "0",
         "0",
         "0",
         "1",
         "0",
         "0",
         "0",
         "1",
         "0",
         "0",
         "0",
         "0",
         "0",
         "0",
         "0",
         "0",
         "0",
         "0",
         "0",
         "1",
         "0",
         "0",
         "0",
         "0",
         "0",
         "0",
         "0",
         "0",
         "0",
         "0",
         "1",
         "0",
         "0",
         "0",
         "0",
         "0",
         "0",
         "0",
         "0",
         "0",
         "0",
         "0",
         "0",
         "0",
         "0",
         "0",
         "0",
         "0",
         "0",
         "0",
         "0",
         "0",
         "0",
         "0",
         "0",
         "0",
         "0",
         "0",
         "0",
         "0",
         "0",
         "1",
         "0",
         "1",
         "0",
         "0",
         "0",
         "0",
         "0",
         "0",
         "0",
         "0",
         "1",
         "0",
         "0",
         "0",
         "0",
         "0",
         "0",
         "0",
         "0",
         "0",
         "0",
         "0",
         "1",
         "0",
         "0",
         "0",
         "0",
         "0",
         "0",
         "0",
         "1",
         "0",
         "0",
         "0",
         "0",
         "0",
         "0",
         "0",
         "0",
         "0",
         "0",
         "0",
         "0",
         "1",
         "0",
         "0",
         "0",
         "0",
         "0",
         "0",
         "0",
         "0",
         "0",
         "1",
         "0",
         "0",
         "0",
         "0",
         "0",
         "0",
         "0",
         "0",
         "0",
         "0",
         "0",
         "0",
         "0",
         "0",
         "0",
         "0",
         "0",
         "0",
         "0",
         "0",
         "0",
         "0",
         "0",
         "0",
         "0",
         "0",
         "0",
         "0",
         "0",
         "0",
         "0",
         "1",
         "0",
         "0",
         "0",
         "0",
         "0",
         "0",
         "0",
         "1",
         "0",
         "0",
         "0",
         "1",
         "0",
         "0",
         "1",
         "0",
         "0",
         "0",
         "0",
         "0",
         "0",
         "1",
         "0",
         "0",
         "0",
         "0",
         "0",
         "0",
         "1",
         "0",
         "0",
         "0",
         "0",
         "0",
         "0",
         "0",
         "0",
         "0",
         "0",
         "0",
         "0",
         "0",
         "0",
         "0",
         "0",
         "0",
         "0",
         "0",
         "0",
         "0",
         "0",
         "0",
         "0",
         "0",
         "0",
         "0",
         "0",
         "0",
         "0",
         "0",
         "0",
         "0",
         "0",
         "0",
         "0",
         "0",
         "0",
         "0",
         "0",
         "1",
         "0",
         "1",
         "0",
         "0",
         "0",
         "0",
         "0",
         "1",
         "0",
         "0",
         "0",
         "0",
         "0",
         "0",
         "0",
         "0",
         "0",
         "0",
         "0",
         "0",
         "0",
         "0",
         "0",
         "0",
         "0",
         "0",
         "0",
         "0",
         "0",
         "0",
         "0",
         "0",
         "0",
         "0",
         "0",
         "0",
         "0",
         "0",
         "0",
         "0",
         "0",
         "0",
         "0",
         "0",
         "0",
         "0",
         "0",
         "0",
         "0",
         "0",
         "0",
         "0",
         "0",
         "0",
         "0",
         "0",
         "0",
         "0",
         "0",
         "0",
         "0",
         "0",
         "0",
         "0",
         "0",
         "0",
         "0",
         "1",
         "0",
         "0",
         "0",
         "0",
         "0",
         "0",
         "0",
         "0",
         "1"
        ],
        [
         "1237",
         "0",
         "0",
         "0",
         "0",
         "0",
         "0",
         "0",
         "0",
         "0",
         "0",
         "0",
         "0",
         "1",
         "0",
         "1",
         "0",
         "0",
         "0",
         "0",
         "0",
         "0",
         "0",
         "0",
         "0",
         "0",
         "0",
         "0",
         "0",
         "0",
         "0",
         "0",
         "0",
         "0",
         "0",
         "1",
         "0",
         "0",
         "0",
         "0",
         "0",
         "0",
         "0",
         "0",
         "0",
         "0",
         "0",
         "0",
         "0",
         "0",
         "0",
         "0",
         "0",
         "0",
         "0",
         "0",
         "0",
         "0",
         "0",
         "0",
         "0",
         "0",
         "0",
         "0",
         "0",
         "0",
         "0",
         "0",
         "0",
         "0",
         "0",
         "0",
         "0",
         "0",
         "0",
         "0",
         "0",
         "0",
         "0",
         "0",
         "0",
         "0",
         "0",
         "0",
         "0",
         "0",
         "0",
         "0",
         "0",
         "0",
         "0",
         "0",
         "0",
         "0",
         "0",
         "0",
         "0",
         "0",
         "0",
         "0",
         "0",
         "0",
         "0",
         "0",
         "0",
         "0",
         "0",
         "0",
         "0",
         "0",
         "0",
         "0",
         "0",
         "0",
         "0",
         "1",
         "0",
         "0",
         "0",
         "0",
         "0",
         "0",
         "0",
         "0",
         "0",
         "0",
         "0",
         "0",
         "0",
         "0",
         "0",
         "0",
         "0",
         "0",
         "0",
         "0",
         "0",
         "0",
         "0",
         "0",
         "0",
         "0",
         "0",
         "0",
         "0",
         "0",
         "0",
         "0",
         "0",
         "0",
         "0",
         "0",
         "0",
         "0",
         "0",
         "0",
         "0",
         "0",
         "0",
         "0",
         "0",
         "0",
         "0",
         "0",
         "0",
         "0",
         "0",
         "0",
         "0",
         "0",
         "0",
         "0",
         "0",
         "0",
         "0",
         "0",
         "0",
         "0",
         "0",
         "0",
         "0",
         "0",
         "0",
         "0",
         "0",
         "0",
         "0",
         "0",
         "0",
         "1",
         "0",
         "0",
         "0",
         "0",
         "0",
         "0",
         "0",
         "0",
         "0",
         "0",
         "0",
         "0",
         "0",
         "0",
         "0",
         "0",
         "1",
         "0",
         "0",
         "1",
         "0",
         "0",
         "0",
         "0",
         "0",
         "0",
         "0",
         "0",
         "0",
         "1",
         "0",
         "0",
         "0",
         "0",
         "0",
         "0",
         "0",
         "0",
         "0",
         "0",
         "0",
         "0",
         "0",
         "0",
         "0",
         "0",
         "0",
         "0",
         "0",
         "0",
         "0",
         "0",
         "0",
         "0",
         "0",
         "0",
         "0",
         "0",
         "0",
         "0",
         "0",
         "0",
         "0",
         "0",
         "0",
         "0",
         "0",
         "0",
         "0",
         "0",
         "0",
         "0",
         "0",
         "0",
         "0",
         "0",
         "0",
         "0",
         "0",
         "0",
         "0",
         "0",
         "0",
         "0",
         "0",
         "0",
         "0",
         "0",
         "0",
         "0",
         "0",
         "0",
         "0",
         "0",
         "0",
         "0",
         "0",
         "0",
         "0",
         "0",
         "0",
         "0",
         "0",
         "0",
         "0",
         "0",
         "0",
         "0",
         "0",
         "0",
         "0",
         "0",
         "0",
         "0",
         "0",
         "0",
         "0",
         "0",
         "0",
         "0",
         "1",
         "0",
         "0",
         "0",
         "0",
         "0",
         "0",
         "0",
         "0",
         "0",
         "0",
         "0",
         "0",
         "0",
         "0",
         "0",
         "0",
         "0",
         "0",
         "0",
         "0",
         "0",
         "0",
         "0",
         "0",
         "0",
         "0",
         "0",
         "0",
         "0",
         "0",
         "0",
         "0",
         "1",
         "0",
         "0",
         "0",
         "0",
         "0",
         "0",
         "0",
         "0",
         "0",
         "0",
         "0",
         "0",
         "0",
         "0",
         "0",
         "0",
         "0",
         "0",
         "0",
         "0",
         "0",
         "0",
         "1",
         "0",
         "0",
         "0",
         "0",
         "0",
         "0",
         "0",
         "0",
         "0",
         "1",
         "0",
         "0",
         "0",
         "0",
         "0",
         "0",
         "0",
         "0",
         "0",
         "0",
         "0",
         "0",
         "0",
         "0",
         "0",
         "0",
         "0",
         "0",
         "0",
         "0",
         "0",
         "0",
         "0",
         "1",
         "0",
         "0",
         "0",
         "0",
         "0",
         "0",
         "0",
         "0",
         "0",
         "0",
         "0",
         "0",
         "0",
         "0",
         "0",
         "0",
         "0",
         "0",
         "0",
         "0",
         "0",
         "0",
         "0",
         "0",
         "0",
         "0",
         "0",
         "0",
         "0",
         "0",
         "0",
         "0",
         "0",
         "0",
         "0",
         "0",
         "0",
         "0",
         "0",
         "0",
         "0",
         "1",
         "0",
         "1",
         "0",
         "0",
         "0",
         "0",
         "0",
         "0",
         "0",
         "0",
         "0",
         "0",
         "0",
         "0",
         "0",
         "0",
         "0",
         "0",
         "0",
         "0",
         "0",
         "0",
         "0",
         "0",
         "0",
         "0",
         "0",
         "0",
         "0",
         "0",
         "0",
         "0",
         "0",
         "0",
         "0",
         "0",
         "1",
         "0",
         "0",
         "0",
         "0",
         "0",
         "0",
         "0",
         "0",
         "0",
         "0",
         "0",
         "0",
         "0",
         "0",
         "0",
         "0",
         "0",
         "0",
         "0",
         "0",
         "0",
         "0",
         "0",
         "0",
         "0",
         "0",
         "0",
         "0",
         "0",
         "0",
         "0",
         "0",
         "0",
         "0",
         "0",
         "0",
         "0",
         "0",
         "0",
         "0",
         "0",
         "0",
         "0",
         "0",
         "0",
         "0",
         "0",
         "0",
         "0",
         "0",
         "0",
         "0",
         "0",
         "0",
         "0",
         "0",
         "0",
         "0",
         "0",
         "0",
         "0",
         "0",
         "0",
         "0",
         "0",
         "0",
         "0",
         "0",
         "0",
         "0",
         "0",
         "0",
         "0",
         "0",
         "0",
         "0",
         "0",
         "1",
         "0",
         "0",
         "0",
         "0",
         "1",
         "0",
         "0",
         "0",
         "0",
         "0",
         "0",
         "0",
         "0",
         "0",
         "0",
         "0",
         "1",
         "0",
         "0",
         "0",
         "0",
         "0",
         "0",
         "0",
         "0",
         "0",
         "0",
         "0",
         "0",
         "0",
         "0",
         "0",
         "0",
         "0",
         "0",
         "0",
         "0",
         "0",
         "0",
         "0",
         "0",
         "0",
         "0",
         "0",
         "0",
         "0",
         "0",
         "0",
         "0",
         "0",
         "0",
         "0",
         "0",
         "0",
         "0",
         "0",
         "0",
         "0",
         "0",
         "0",
         "0",
         "0",
         "0",
         "0",
         "0",
         "0",
         "0",
         "0",
         "0",
         "1",
         "0",
         "0",
         "0",
         "0",
         "0",
         "0",
         "0",
         "0",
         "1",
         "1",
         "0",
         "0",
         "0",
         "0",
         "0",
         "0",
         "0",
         "0",
         "0",
         "0"
        ]
       ],
       "shape": {
        "columns": 647,
        "rows": 5
       }
      },
      "text/html": [
       "<div>\n",
       "<style scoped>\n",
       "    .dataframe tbody tr th:only-of-type {\n",
       "        vertical-align: middle;\n",
       "    }\n",
       "\n",
       "    .dataframe tbody tr th {\n",
       "        vertical-align: top;\n",
       "    }\n",
       "\n",
       "    .dataframe thead th {\n",
       "        text-align: right;\n",
       "    }\n",
       "</style>\n",
       "<table border=\"1\" class=\"dataframe\">\n",
       "  <thead>\n",
       "    <tr style=\"text-align: right;\">\n",
       "      <th>item</th>\n",
       "      <th>35</th>\n",
       "      <th>43</th>\n",
       "      <th>124</th>\n",
       "      <th>142</th>\n",
       "      <th>144</th>\n",
       "      <th>176</th>\n",
       "      <th>177</th>\n",
       "      <th>182</th>\n",
       "      <th>189</th>\n",
       "      <th>218</th>\n",
       "      <th>...</th>\n",
       "      <th>64613</th>\n",
       "      <th>64806</th>\n",
       "      <th>64822</th>\n",
       "      <th>65174</th>\n",
       "      <th>65423</th>\n",
       "      <th>65921</th>\n",
       "      <th>66061</th>\n",
       "      <th>66065</th>\n",
       "      <th>68137</th>\n",
       "      <th>72332</th>\n",
       "    </tr>\n",
       "    <tr>\n",
       "      <th>Order</th>\n",
       "      <th></th>\n",
       "      <th></th>\n",
       "      <th></th>\n",
       "      <th></th>\n",
       "      <th></th>\n",
       "      <th></th>\n",
       "      <th></th>\n",
       "      <th></th>\n",
       "      <th></th>\n",
       "      <th></th>\n",
       "      <th></th>\n",
       "      <th></th>\n",
       "      <th></th>\n",
       "      <th></th>\n",
       "      <th></th>\n",
       "      <th></th>\n",
       "      <th></th>\n",
       "      <th></th>\n",
       "      <th></th>\n",
       "      <th></th>\n",
       "      <th></th>\n",
       "    </tr>\n",
       "  </thead>\n",
       "  <tbody>\n",
       "    <tr>\n",
       "      <th>1232</th>\n",
       "      <td>0</td>\n",
       "      <td>0</td>\n",
       "      <td>0</td>\n",
       "      <td>0</td>\n",
       "      <td>0</td>\n",
       "      <td>0</td>\n",
       "      <td>0</td>\n",
       "      <td>0</td>\n",
       "      <td>0</td>\n",
       "      <td>0</td>\n",
       "      <td>...</td>\n",
       "      <td>0</td>\n",
       "      <td>0</td>\n",
       "      <td>0</td>\n",
       "      <td>1</td>\n",
       "      <td>0</td>\n",
       "      <td>0</td>\n",
       "      <td>0</td>\n",
       "      <td>0</td>\n",
       "      <td>0</td>\n",
       "      <td>0</td>\n",
       "    </tr>\n",
       "    <tr>\n",
       "      <th>1234</th>\n",
       "      <td>0</td>\n",
       "      <td>0</td>\n",
       "      <td>0</td>\n",
       "      <td>0</td>\n",
       "      <td>0</td>\n",
       "      <td>0</td>\n",
       "      <td>0</td>\n",
       "      <td>0</td>\n",
       "      <td>0</td>\n",
       "      <td>0</td>\n",
       "      <td>...</td>\n",
       "      <td>0</td>\n",
       "      <td>0</td>\n",
       "      <td>0</td>\n",
       "      <td>0</td>\n",
       "      <td>0</td>\n",
       "      <td>0</td>\n",
       "      <td>0</td>\n",
       "      <td>0</td>\n",
       "      <td>0</td>\n",
       "      <td>0</td>\n",
       "    </tr>\n",
       "    <tr>\n",
       "      <th>1254</th>\n",
       "      <td>0</td>\n",
       "      <td>0</td>\n",
       "      <td>0</td>\n",
       "      <td>0</td>\n",
       "      <td>0</td>\n",
       "      <td>0</td>\n",
       "      <td>0</td>\n",
       "      <td>0</td>\n",
       "      <td>0</td>\n",
       "      <td>0</td>\n",
       "      <td>...</td>\n",
       "      <td>0</td>\n",
       "      <td>0</td>\n",
       "      <td>0</td>\n",
       "      <td>0</td>\n",
       "      <td>0</td>\n",
       "      <td>0</td>\n",
       "      <td>0</td>\n",
       "      <td>0</td>\n",
       "      <td>0</td>\n",
       "      <td>0</td>\n",
       "    </tr>\n",
       "    <tr>\n",
       "      <th>1257</th>\n",
       "      <td>0</td>\n",
       "      <td>1</td>\n",
       "      <td>0</td>\n",
       "      <td>0</td>\n",
       "      <td>0</td>\n",
       "      <td>0</td>\n",
       "      <td>0</td>\n",
       "      <td>0</td>\n",
       "      <td>0</td>\n",
       "      <td>0</td>\n",
       "      <td>...</td>\n",
       "      <td>1</td>\n",
       "      <td>0</td>\n",
       "      <td>0</td>\n",
       "      <td>0</td>\n",
       "      <td>0</td>\n",
       "      <td>0</td>\n",
       "      <td>0</td>\n",
       "      <td>0</td>\n",
       "      <td>0</td>\n",
       "      <td>1</td>\n",
       "    </tr>\n",
       "    <tr>\n",
       "      <th>1237</th>\n",
       "      <td>0</td>\n",
       "      <td>0</td>\n",
       "      <td>0</td>\n",
       "      <td>0</td>\n",
       "      <td>0</td>\n",
       "      <td>0</td>\n",
       "      <td>0</td>\n",
       "      <td>0</td>\n",
       "      <td>0</td>\n",
       "      <td>0</td>\n",
       "      <td>...</td>\n",
       "      <td>0</td>\n",
       "      <td>0</td>\n",
       "      <td>0</td>\n",
       "      <td>0</td>\n",
       "      <td>0</td>\n",
       "      <td>0</td>\n",
       "      <td>0</td>\n",
       "      <td>0</td>\n",
       "      <td>0</td>\n",
       "      <td>0</td>\n",
       "    </tr>\n",
       "  </tbody>\n",
       "</table>\n",
       "<p>5 rows × 647 columns</p>\n",
       "</div>"
      ],
      "text/plain": [
       "item   35     43     124    142    144    176    177    182    189    218    \\\n",
       "Order                                                                         \n",
       "1232       0      0      0      0      0      0      0      0      0      0   \n",
       "1234       0      0      0      0      0      0      0      0      0      0   \n",
       "1254       0      0      0      0      0      0      0      0      0      0   \n",
       "1257       0      1      0      0      0      0      0      0      0      0   \n",
       "1237       0      0      0      0      0      0      0      0      0      0   \n",
       "\n",
       "item   ...  64613  64806  64822  65174  65423  65921  66061  66065  68137  \\\n",
       "Order  ...                                                                  \n",
       "1232   ...      0      0      0      1      0      0      0      0      0   \n",
       "1234   ...      0      0      0      0      0      0      0      0      0   \n",
       "1254   ...      0      0      0      0      0      0      0      0      0   \n",
       "1257   ...      1      0      0      0      0      0      0      0      0   \n",
       "1237   ...      0      0      0      0      0      0      0      0      0   \n",
       "\n",
       "item   72332  \n",
       "Order         \n",
       "1232       0  \n",
       "1234       0  \n",
       "1254       0  \n",
       "1257       1  \n",
       "1237       0  \n",
       "\n",
       "[5 rows x 647 columns]"
      ]
     },
     "execution_count": 48,
     "metadata": {},
     "output_type": "execute_result"
    }
   ],
   "source": [
    "# Retrieve the nearest neighbors' order numbers and distances\n",
    "recocmmended_orders = X_knn.iloc[indices[0]]\n",
    "\n",
    "recocmmended_orders.head()"
   ]
  },
  {
   "cell_type": "markdown",
   "metadata": {},
   "source": [
    "> The rows = orders, so each row is one of the most similar orders to order 1232. We did this with using the cosine similariry.\n",
    "\n",
    "> Cells with a value of 1 indicate that that item was purches in that order while 0 means it was not a part of that order.\n",
    "for example, Orders 1232,1234,1254, and 1237 do not have item 124.\n",
    "\n",
    "> You will also notice that item 124 does appear in order 1257, that measn that item number 124 is a potential recommendation for order 1232."
   ]
  },
  {
   "cell_type": "markdown",
   "metadata": {},
   "source": [
    "## Recommended Item List"
   ]
  },
  {
   "cell_type": "code",
   "execution_count": null,
   "metadata": {},
   "outputs": [
    {
     "data": {
      "text/plain": [
       "item\n",
       "5766     2\n",
       "1198     2\n",
       "1010     2\n",
       "14287    1\n",
       "13289    1\n",
       "13697    1\n",
       "13853    1\n",
       "14189    1\n",
       "43       1\n",
       "12687    1\n",
       "dtype: int64"
      ]
     },
     "execution_count": 52,
     "metadata": {},
     "output_type": "execute_result"
    }
   ],
   "source": [
    "target_order_vector = X_knn.iloc[sample_index]\n",
    "neighbor_indices = indices[0][1:]  # exclude the target order itself\n",
    "neighbors_matrix = X_knn.iloc[neighbor_indices]\n",
    "neighbor_item_sums = neighbors_matrix.sum(axis=0)\n",
    "target_items = target_order_vector[target_order_vector == 1].index\n",
    "potential_recommendations = neighbor_item_sums.drop(labels=target_items)\n",
    "recommended_items = potential_recommendations[potential_recommendations > 0].sort_values(ascending=False)\n",
    "\n",
    "# Show top recommended items\n",
    "recommended_items.head(10)"
   ]
  },
  {
   "cell_type": "markdown",
   "metadata": {},
   "source": [
    "> Above we have generated a short list of items and the number orders they can be recommended for. \n",
    "The items in this list were not purchased in the original order(index[0]), but were instead found in multiple similar orders, making them very storng candidates for cart completeion suggestions. \n",
    "> In the case of Service center Techs, this could speed up their cart allocation process saving them time online that they can instead be spending in the service centers performing maintnance.lets\n",
    "> Below we can see the same for order #20"
   ]
  },
  {
   "cell_type": "code",
   "execution_count": null,
   "metadata": {},
   "outputs": [
    {
     "data": {
      "text/plain": [
       "item\n",
       "43       1\n",
       "12577    1\n",
       "15277    1\n",
       "14329    1\n",
       "14287    1\n",
       "14189    1\n",
       "13853    1\n",
       "13289    1\n",
       "12605    1\n",
       "12579    1\n",
       "dtype: int64"
      ]
     },
     "execution_count": 53,
     "metadata": {},
     "output_type": "execute_result"
    }
   ],
   "source": [
    "sample_index = 20\n",
    "target_order_vector = X_knn.iloc[sample_index]\n",
    "neighbor_indices = indices[0][1:]  # exclude the target order itself\n",
    "neighbors_matrix = X_knn.iloc[neighbor_indices]\n",
    "\n",
    "neighbor_item_sums = neighbors_matrix.sum(axis=0)\n",
    "target_items = target_order_vector[target_order_vector == 1].index\n",
    "potential_recommendations = neighbor_item_sums.drop(labels=target_items)\n",
    "recommended_items = potential_recommendations[potential_recommendations > 0].sort_values(ascending=False)\n",
    "\n",
    "# Show top recommended items\n",
    "recommended_items.head(10)"
   ]
  },
  {
   "cell_type": "code",
   "execution_count": null,
   "metadata": {},
   "outputs": [],
   "source": []
  }
 ],
 "metadata": {
  "kernelspec": {
   "display_name": "Python 3",
   "language": "python",
   "name": "python3"
  },
  "language_info": {
   "codemirror_mode": {
    "name": "ipython",
    "version": 3
   },
   "file_extension": ".py",
   "mimetype": "text/x-python",
   "name": "python",
   "nbconvert_exporter": "python",
   "pygments_lexer": "ipython3",
   "version": "3.11.9"
  }
 },
 "nbformat": 4,
 "nbformat_minor": 2
}
